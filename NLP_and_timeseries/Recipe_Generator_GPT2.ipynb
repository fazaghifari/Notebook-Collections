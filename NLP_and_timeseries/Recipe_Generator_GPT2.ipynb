{
  "nbformat": 4,
  "nbformat_minor": 0,
  "metadata": {
    "colab": {
      "name": "Recipe_Generator_GPT2.ipynb",
      "provenance": [],
      "collapsed_sections": [],
      "toc_visible": true,
      "authorship_tag": "ABX9TyNIC9kwoTUZ3NcnzmX4aDl+",
      "include_colab_link": true
    },
    "kernelspec": {
      "name": "python3",
      "display_name": "Python 3"
    },
    "accelerator": "GPU",
    "widgets": {
      "application/vnd.jupyter.widget-state+json": {
        "987b58f273214538b5852b8a799a76e0": {
          "model_module": "@jupyter-widgets/controls",
          "model_name": "HBoxModel",
          "state": {
            "_view_name": "HBoxView",
            "_dom_classes": [],
            "_model_name": "HBoxModel",
            "_view_module": "@jupyter-widgets/controls",
            "_model_module_version": "1.5.0",
            "_view_count": null,
            "_view_module_version": "1.5.0",
            "box_style": "",
            "layout": "IPY_MODEL_c49210de38bc43cdb028438a8e328c11",
            "_model_module": "@jupyter-widgets/controls",
            "children": [
              "IPY_MODEL_7fd2d90553894143a665a38c009b9e14",
              "IPY_MODEL_1ac79b93f51442d8bd7d68da730bd313"
            ]
          }
        },
        "c49210de38bc43cdb028438a8e328c11": {
          "model_module": "@jupyter-widgets/base",
          "model_name": "LayoutModel",
          "state": {
            "_view_name": "LayoutView",
            "grid_template_rows": null,
            "right": null,
            "justify_content": null,
            "_view_module": "@jupyter-widgets/base",
            "overflow": null,
            "_model_module_version": "1.2.0",
            "_view_count": null,
            "flex_flow": null,
            "width": null,
            "min_width": null,
            "border": null,
            "align_items": null,
            "bottom": null,
            "_model_module": "@jupyter-widgets/base",
            "top": null,
            "grid_column": null,
            "overflow_y": null,
            "overflow_x": null,
            "grid_auto_flow": null,
            "grid_area": null,
            "grid_template_columns": null,
            "flex": null,
            "_model_name": "LayoutModel",
            "justify_items": null,
            "grid_row": null,
            "max_height": null,
            "align_content": null,
            "visibility": null,
            "align_self": null,
            "height": null,
            "min_height": null,
            "padding": null,
            "grid_auto_rows": null,
            "grid_gap": null,
            "max_width": null,
            "order": null,
            "_view_module_version": "1.2.0",
            "grid_template_areas": null,
            "object_position": null,
            "object_fit": null,
            "grid_auto_columns": null,
            "margin": null,
            "display": null,
            "left": null
          }
        },
        "7fd2d90553894143a665a38c009b9e14": {
          "model_module": "@jupyter-widgets/controls",
          "model_name": "FloatProgressModel",
          "state": {
            "_view_name": "ProgressView",
            "style": "IPY_MODEL_809c9625a17c4c89aaedaf28458e8e43",
            "_dom_classes": [],
            "description": "100%",
            "_model_name": "FloatProgressModel",
            "bar_style": "success",
            "max": 7889,
            "_view_module": "@jupyter-widgets/controls",
            "_model_module_version": "1.5.0",
            "value": 7889,
            "_view_count": null,
            "_view_module_version": "1.5.0",
            "orientation": "horizontal",
            "min": 0,
            "description_tooltip": null,
            "_model_module": "@jupyter-widgets/controls",
            "layout": "IPY_MODEL_78d0160629c042ae879bc0cf8ddb528a"
          }
        },
        "1ac79b93f51442d8bd7d68da730bd313": {
          "model_module": "@jupyter-widgets/controls",
          "model_name": "HTMLModel",
          "state": {
            "_view_name": "HTMLView",
            "style": "IPY_MODEL_24cabf3a421f4fb3862f75340a2d3caf",
            "_dom_classes": [],
            "description": "",
            "_model_name": "HTMLModel",
            "placeholder": "​",
            "_view_module": "@jupyter-widgets/controls",
            "_model_module_version": "1.5.0",
            "value": " 7889/7889 [2:21:49&lt;00:00,  1.08s/it]",
            "_view_count": null,
            "_view_module_version": "1.5.0",
            "description_tooltip": null,
            "_model_module": "@jupyter-widgets/controls",
            "layout": "IPY_MODEL_0b44ab5eb0fa42ae8eec2902443f378b"
          }
        },
        "809c9625a17c4c89aaedaf28458e8e43": {
          "model_module": "@jupyter-widgets/controls",
          "model_name": "ProgressStyleModel",
          "state": {
            "_view_name": "StyleView",
            "_model_name": "ProgressStyleModel",
            "description_width": "initial",
            "_view_module": "@jupyter-widgets/base",
            "_model_module_version": "1.5.0",
            "_view_count": null,
            "_view_module_version": "1.2.0",
            "bar_color": null,
            "_model_module": "@jupyter-widgets/controls"
          }
        },
        "78d0160629c042ae879bc0cf8ddb528a": {
          "model_module": "@jupyter-widgets/base",
          "model_name": "LayoutModel",
          "state": {
            "_view_name": "LayoutView",
            "grid_template_rows": null,
            "right": null,
            "justify_content": null,
            "_view_module": "@jupyter-widgets/base",
            "overflow": null,
            "_model_module_version": "1.2.0",
            "_view_count": null,
            "flex_flow": null,
            "width": null,
            "min_width": null,
            "border": null,
            "align_items": null,
            "bottom": null,
            "_model_module": "@jupyter-widgets/base",
            "top": null,
            "grid_column": null,
            "overflow_y": null,
            "overflow_x": null,
            "grid_auto_flow": null,
            "grid_area": null,
            "grid_template_columns": null,
            "flex": null,
            "_model_name": "LayoutModel",
            "justify_items": null,
            "grid_row": null,
            "max_height": null,
            "align_content": null,
            "visibility": null,
            "align_self": null,
            "height": null,
            "min_height": null,
            "padding": null,
            "grid_auto_rows": null,
            "grid_gap": null,
            "max_width": null,
            "order": null,
            "_view_module_version": "1.2.0",
            "grid_template_areas": null,
            "object_position": null,
            "object_fit": null,
            "grid_auto_columns": null,
            "margin": null,
            "display": null,
            "left": null
          }
        },
        "24cabf3a421f4fb3862f75340a2d3caf": {
          "model_module": "@jupyter-widgets/controls",
          "model_name": "DescriptionStyleModel",
          "state": {
            "_view_name": "StyleView",
            "_model_name": "DescriptionStyleModel",
            "description_width": "",
            "_view_module": "@jupyter-widgets/base",
            "_model_module_version": "1.5.0",
            "_view_count": null,
            "_view_module_version": "1.2.0",
            "_model_module": "@jupyter-widgets/controls"
          }
        },
        "0b44ab5eb0fa42ae8eec2902443f378b": {
          "model_module": "@jupyter-widgets/base",
          "model_name": "LayoutModel",
          "state": {
            "_view_name": "LayoutView",
            "grid_template_rows": null,
            "right": null,
            "justify_content": null,
            "_view_module": "@jupyter-widgets/base",
            "overflow": null,
            "_model_module_version": "1.2.0",
            "_view_count": null,
            "flex_flow": null,
            "width": null,
            "min_width": null,
            "border": null,
            "align_items": null,
            "bottom": null,
            "_model_module": "@jupyter-widgets/base",
            "top": null,
            "grid_column": null,
            "overflow_y": null,
            "overflow_x": null,
            "grid_auto_flow": null,
            "grid_area": null,
            "grid_template_columns": null,
            "flex": null,
            "_model_name": "LayoutModel",
            "justify_items": null,
            "grid_row": null,
            "max_height": null,
            "align_content": null,
            "visibility": null,
            "align_self": null,
            "height": null,
            "min_height": null,
            "padding": null,
            "grid_auto_rows": null,
            "grid_gap": null,
            "max_width": null,
            "order": null,
            "_view_module_version": "1.2.0",
            "grid_template_areas": null,
            "object_position": null,
            "object_fit": null,
            "grid_auto_columns": null,
            "margin": null,
            "display": null,
            "left": null
          }
        },
        "4e7984b0cd264b6c82b33d794ceee317": {
          "model_module": "@jupyter-widgets/controls",
          "model_name": "HBoxModel",
          "state": {
            "_view_name": "HBoxView",
            "_dom_classes": [],
            "_model_name": "HBoxModel",
            "_view_module": "@jupyter-widgets/controls",
            "_model_module_version": "1.5.0",
            "_view_count": null,
            "_view_module_version": "1.5.0",
            "box_style": "",
            "layout": "IPY_MODEL_fa94b4b820fd406ab5727296a94ed595",
            "_model_module": "@jupyter-widgets/controls",
            "children": [
              "IPY_MODEL_4b81ff3282e5447491653251431579ab",
              "IPY_MODEL_1673d644fb83463dada6e70b02aa4fbd"
            ]
          }
        },
        "fa94b4b820fd406ab5727296a94ed595": {
          "model_module": "@jupyter-widgets/base",
          "model_name": "LayoutModel",
          "state": {
            "_view_name": "LayoutView",
            "grid_template_rows": null,
            "right": null,
            "justify_content": null,
            "_view_module": "@jupyter-widgets/base",
            "overflow": null,
            "_model_module_version": "1.2.0",
            "_view_count": null,
            "flex_flow": null,
            "width": null,
            "min_width": null,
            "border": null,
            "align_items": null,
            "bottom": null,
            "_model_module": "@jupyter-widgets/base",
            "top": null,
            "grid_column": null,
            "overflow_y": null,
            "overflow_x": null,
            "grid_auto_flow": null,
            "grid_area": null,
            "grid_template_columns": null,
            "flex": null,
            "_model_name": "LayoutModel",
            "justify_items": null,
            "grid_row": null,
            "max_height": null,
            "align_content": null,
            "visibility": null,
            "align_self": null,
            "height": null,
            "min_height": null,
            "padding": null,
            "grid_auto_rows": null,
            "grid_gap": null,
            "max_width": null,
            "order": null,
            "_view_module_version": "1.2.0",
            "grid_template_areas": null,
            "object_position": null,
            "object_fit": null,
            "grid_auto_columns": null,
            "margin": null,
            "display": null,
            "left": null
          }
        },
        "4b81ff3282e5447491653251431579ab": {
          "model_module": "@jupyter-widgets/controls",
          "model_name": "FloatProgressModel",
          "state": {
            "_view_name": "ProgressView",
            "style": "IPY_MODEL_ed9d32b9d99d4dd2a85a256d28fee452",
            "_dom_classes": [],
            "description": "100%",
            "_model_name": "FloatProgressModel",
            "bar_style": "success",
            "max": 7889,
            "_view_module": "@jupyter-widgets/controls",
            "_model_module_version": "1.5.0",
            "value": 7889,
            "_view_count": null,
            "_view_module_version": "1.5.0",
            "orientation": "horizontal",
            "min": 0,
            "description_tooltip": null,
            "_model_module": "@jupyter-widgets/controls",
            "layout": "IPY_MODEL_b5f6068cab1443888195f84f079107ca"
          }
        },
        "1673d644fb83463dada6e70b02aa4fbd": {
          "model_module": "@jupyter-widgets/controls",
          "model_name": "HTMLModel",
          "state": {
            "_view_name": "HTMLView",
            "style": "IPY_MODEL_8df13360c8dc4bc6990d7da262639838",
            "_dom_classes": [],
            "description": "",
            "_model_name": "HTMLModel",
            "placeholder": "​",
            "_view_module": "@jupyter-widgets/controls",
            "_model_module_version": "1.5.0",
            "value": " 7889/7889 [1:11:09&lt;00:00,  1.85it/s]",
            "_view_count": null,
            "_view_module_version": "1.5.0",
            "description_tooltip": null,
            "_model_module": "@jupyter-widgets/controls",
            "layout": "IPY_MODEL_923cafe1affc4e729774311ce874bb43"
          }
        },
        "ed9d32b9d99d4dd2a85a256d28fee452": {
          "model_module": "@jupyter-widgets/controls",
          "model_name": "ProgressStyleModel",
          "state": {
            "_view_name": "StyleView",
            "_model_name": "ProgressStyleModel",
            "description_width": "initial",
            "_view_module": "@jupyter-widgets/base",
            "_model_module_version": "1.5.0",
            "_view_count": null,
            "_view_module_version": "1.2.0",
            "bar_color": null,
            "_model_module": "@jupyter-widgets/controls"
          }
        },
        "b5f6068cab1443888195f84f079107ca": {
          "model_module": "@jupyter-widgets/base",
          "model_name": "LayoutModel",
          "state": {
            "_view_name": "LayoutView",
            "grid_template_rows": null,
            "right": null,
            "justify_content": null,
            "_view_module": "@jupyter-widgets/base",
            "overflow": null,
            "_model_module_version": "1.2.0",
            "_view_count": null,
            "flex_flow": null,
            "width": null,
            "min_width": null,
            "border": null,
            "align_items": null,
            "bottom": null,
            "_model_module": "@jupyter-widgets/base",
            "top": null,
            "grid_column": null,
            "overflow_y": null,
            "overflow_x": null,
            "grid_auto_flow": null,
            "grid_area": null,
            "grid_template_columns": null,
            "flex": null,
            "_model_name": "LayoutModel",
            "justify_items": null,
            "grid_row": null,
            "max_height": null,
            "align_content": null,
            "visibility": null,
            "align_self": null,
            "height": null,
            "min_height": null,
            "padding": null,
            "grid_auto_rows": null,
            "grid_gap": null,
            "max_width": null,
            "order": null,
            "_view_module_version": "1.2.0",
            "grid_template_areas": null,
            "object_position": null,
            "object_fit": null,
            "grid_auto_columns": null,
            "margin": null,
            "display": null,
            "left": null
          }
        },
        "8df13360c8dc4bc6990d7da262639838": {
          "model_module": "@jupyter-widgets/controls",
          "model_name": "DescriptionStyleModel",
          "state": {
            "_view_name": "StyleView",
            "_model_name": "DescriptionStyleModel",
            "description_width": "",
            "_view_module": "@jupyter-widgets/base",
            "_model_module_version": "1.5.0",
            "_view_count": null,
            "_view_module_version": "1.2.0",
            "_model_module": "@jupyter-widgets/controls"
          }
        },
        "923cafe1affc4e729774311ce874bb43": {
          "model_module": "@jupyter-widgets/base",
          "model_name": "LayoutModel",
          "state": {
            "_view_name": "LayoutView",
            "grid_template_rows": null,
            "right": null,
            "justify_content": null,
            "_view_module": "@jupyter-widgets/base",
            "overflow": null,
            "_model_module_version": "1.2.0",
            "_view_count": null,
            "flex_flow": null,
            "width": null,
            "min_width": null,
            "border": null,
            "align_items": null,
            "bottom": null,
            "_model_module": "@jupyter-widgets/base",
            "top": null,
            "grid_column": null,
            "overflow_y": null,
            "overflow_x": null,
            "grid_auto_flow": null,
            "grid_area": null,
            "grid_template_columns": null,
            "flex": null,
            "_model_name": "LayoutModel",
            "justify_items": null,
            "grid_row": null,
            "max_height": null,
            "align_content": null,
            "visibility": null,
            "align_self": null,
            "height": null,
            "min_height": null,
            "padding": null,
            "grid_auto_rows": null,
            "grid_gap": null,
            "max_width": null,
            "order": null,
            "_view_module_version": "1.2.0",
            "grid_template_areas": null,
            "object_position": null,
            "object_fit": null,
            "grid_auto_columns": null,
            "margin": null,
            "display": null,
            "left": null
          }
        }
      }
    }
  },
  "cells": [
    {
      "cell_type": "markdown",
      "metadata": {
        "id": "view-in-github",
        "colab_type": "text"
      },
      "source": [
        "<a href=\"https://colab.research.google.com/github/fazaghifari/Notebook-Collections/blob/master/NLP_and_timeseries/Recipe_Generator_GPT2.ipynb\" target=\"_parent\"><img src=\"https://colab.research.google.com/assets/colab-badge.svg\" alt=\"Open In Colab\"/></a>"
      ]
    },
    {
      "cell_type": "markdown",
      "metadata": {
        "id": "0HIwxTdABQuP",
        "colab_type": "text"
      },
      "source": [
        "# Recipe Generator with GPT-2\n",
        "This model is far from perfect, further fine tuning or try using larger GPT-2 model is needed."
      ]
    },
    {
      "cell_type": "markdown",
      "metadata": {
        "id": "T6s2RWGMPDNF",
        "colab_type": "text"
      },
      "source": [
        "---\n",
        "## Initialization"
      ]
    },
    {
      "cell_type": "markdown",
      "metadata": {
        "id": "rZZ86rX2BWx2",
        "colab_type": "text"
      },
      "source": [
        "### Install transformers"
      ]
    },
    {
      "cell_type": "code",
      "metadata": {
        "id": "YnmMjqrLBL38",
        "colab_type": "code",
        "outputId": "1b86a251-f500-4dd7-9049-015735a1f7b5",
        "colab": {
          "base_uri": "https://localhost:8080/",
          "height": 355
        }
      },
      "source": [
        "!pip install transformers"
      ],
      "execution_count": 1,
      "outputs": [
        {
          "output_type": "stream",
          "text": [
            "Requirement already satisfied: transformers in /usr/local/lib/python3.6/dist-packages (2.11.0)\n",
            "Requirement already satisfied: tokenizers==0.7.0 in /usr/local/lib/python3.6/dist-packages (from transformers) (0.7.0)\n",
            "Requirement already satisfied: tqdm>=4.27 in /usr/local/lib/python3.6/dist-packages (from transformers) (4.41.1)\n",
            "Requirement already satisfied: requests in /usr/local/lib/python3.6/dist-packages (from transformers) (2.23.0)\n",
            "Requirement already satisfied: dataclasses; python_version < \"3.7\" in /usr/local/lib/python3.6/dist-packages (from transformers) (0.7)\n",
            "Requirement already satisfied: packaging in /usr/local/lib/python3.6/dist-packages (from transformers) (20.4)\n",
            "Requirement already satisfied: sacremoses in /usr/local/lib/python3.6/dist-packages (from transformers) (0.0.43)\n",
            "Requirement already satisfied: regex!=2019.12.17 in /usr/local/lib/python3.6/dist-packages (from transformers) (2019.12.20)\n",
            "Requirement already satisfied: sentencepiece in /usr/local/lib/python3.6/dist-packages (from transformers) (0.1.91)\n",
            "Requirement already satisfied: filelock in /usr/local/lib/python3.6/dist-packages (from transformers) (3.0.12)\n",
            "Requirement already satisfied: numpy in /usr/local/lib/python3.6/dist-packages (from transformers) (1.18.5)\n",
            "Requirement already satisfied: urllib3!=1.25.0,!=1.25.1,<1.26,>=1.21.1 in /usr/local/lib/python3.6/dist-packages (from requests->transformers) (1.24.3)\n",
            "Requirement already satisfied: certifi>=2017.4.17 in /usr/local/lib/python3.6/dist-packages (from requests->transformers) (2020.4.5.1)\n",
            "Requirement already satisfied: idna<3,>=2.5 in /usr/local/lib/python3.6/dist-packages (from requests->transformers) (2.9)\n",
            "Requirement already satisfied: chardet<4,>=3.0.2 in /usr/local/lib/python3.6/dist-packages (from requests->transformers) (3.0.4)\n",
            "Requirement already satisfied: six in /usr/local/lib/python3.6/dist-packages (from packaging->transformers) (1.12.0)\n",
            "Requirement already satisfied: pyparsing>=2.0.2 in /usr/local/lib/python3.6/dist-packages (from packaging->transformers) (2.4.7)\n",
            "Requirement already satisfied: click in /usr/local/lib/python3.6/dist-packages (from sacremoses->transformers) (7.1.2)\n",
            "Requirement already satisfied: joblib in /usr/local/lib/python3.6/dist-packages (from sacremoses->transformers) (0.15.1)\n"
          ],
          "name": "stdout"
        }
      ]
    },
    {
      "cell_type": "markdown",
      "metadata": {
        "id": "KJcO1z6FCT5X",
        "colab_type": "text"
      },
      "source": [
        "---\n",
        "### Check GPU"
      ]
    },
    {
      "cell_type": "code",
      "metadata": {
        "id": "XbWvOUYoCQIy",
        "colab_type": "code",
        "outputId": "b299062b-5af0-49e4-fa31-267be49fbb87",
        "colab": {
          "base_uri": "https://localhost:8080/",
          "height": 372
        }
      },
      "source": [
        "!nvidia-smi"
      ],
      "execution_count": 2,
      "outputs": [
        {
          "output_type": "stream",
          "text": [
            "Sat Jun 13 02:01:42 2020       \n",
            "+-----------------------------------------------------------------------------+\n",
            "| NVIDIA-SMI 450.36.06    Driver Version: 418.67       CUDA Version: 10.1     |\n",
            "|-------------------------------+----------------------+----------------------+\n",
            "| GPU  Name        Persistence-M| Bus-Id        Disp.A | Volatile Uncorr. ECC |\n",
            "| Fan  Temp  Perf  Pwr:Usage/Cap|         Memory-Usage | GPU-Util  Compute M. |\n",
            "|                               |                      |               MIG M. |\n",
            "|===============================+======================+======================|\n",
            "|   0  Tesla P100-PCIE...  Off  | 00000000:00:04.0 Off |                    0 |\n",
            "| N/A   38C    P0    26W / 250W |      0MiB / 16280MiB |      0%      Default |\n",
            "|                               |                      |                 ERR! |\n",
            "+-------------------------------+----------------------+----------------------+\n",
            "                                                                               \n",
            "+-----------------------------------------------------------------------------+\n",
            "| Processes:                                                                  |\n",
            "|  GPU   GI   CI        PID   Type   Process name                  GPU Memory |\n",
            "|        ID   ID                                                   Usage      |\n",
            "|=============================================================================|\n",
            "|  No running processes found                                                 |\n",
            "+-----------------------------------------------------------------------------+\n"
          ],
          "name": "stdout"
        }
      ]
    },
    {
      "cell_type": "markdown",
      "metadata": {
        "id": "QMck2hv8O2hm",
        "colab_type": "text"
      },
      "source": [
        "---\n",
        "## Prepare Dataset"
      ]
    },
    {
      "cell_type": "markdown",
      "metadata": {
        "id": "J0B_TnmrEKWZ",
        "colab_type": "text"
      },
      "source": [
        "---\n",
        "### Load data from GDrive"
      ]
    },
    {
      "cell_type": "code",
      "metadata": {
        "id": "Vi1Ii3W3CXCr",
        "colab_type": "code",
        "outputId": "2c022d2f-e0a7-4e36-9241-14fa90fbe1a8",
        "colab": {
          "base_uri": "https://localhost:8080/",
          "height": 35
        }
      },
      "source": [
        "from google.colab import drive\n",
        "drive.mount('/content/drive')"
      ],
      "execution_count": 3,
      "outputs": [
        {
          "output_type": "stream",
          "text": [
            "Drive already mounted at /content/drive; to attempt to forcibly remount, call drive.mount(\"/content/drive\", force_remount=True).\n"
          ],
          "name": "stdout"
        }
      ]
    },
    {
      "cell_type": "code",
      "metadata": {
        "id": "-xEakF6TFzu5",
        "colab_type": "code",
        "colab": {}
      },
      "source": [
        "import os\n",
        "import pandas as pd\n",
        "import pickle\n",
        "raw_recipes_file = 'RAW_recipes.csv'\n",
        "map_file = 'ingr_map.pkl'\n",
        "folder = '/content/drive/My Drive/datasets/food_recipe/'\n",
        "raw_recipes_path = os.path.join(folder,raw_recipes_file)\n",
        "map_path = os.path.join(folder,map_file)\n",
        "raw_recipes_df = pd.read_csv(raw_recipes_path, delimiter=',',\n",
        "                            converters={'tags': eval, 'nutrition': eval, 'steps': eval, 'ingredients': eval})\n",
        "infile = open(map_path,'rb')\n",
        "ingr_map = pickle.load(infile, encoding='bytes')\n",
        "raw_recipes_df = raw_recipes_df.dropna()"
      ],
      "execution_count": 0,
      "outputs": []
    },
    {
      "cell_type": "code",
      "metadata": {
        "id": "xaQf6_OTKMD4",
        "colab_type": "code",
        "outputId": "819d7d92-a7ca-4463-9bcd-5f2367512e7d",
        "colab": {
          "base_uri": "https://localhost:8080/",
          "height": 287
        }
      },
      "source": [
        "raw_recipes_df.head(3)"
      ],
      "execution_count": 5,
      "outputs": [
        {
          "output_type": "execute_result",
          "data": {
            "text/html": [
              "<div>\n",
              "<style scoped>\n",
              "    .dataframe tbody tr th:only-of-type {\n",
              "        vertical-align: middle;\n",
              "    }\n",
              "\n",
              "    .dataframe tbody tr th {\n",
              "        vertical-align: top;\n",
              "    }\n",
              "\n",
              "    .dataframe thead th {\n",
              "        text-align: right;\n",
              "    }\n",
              "</style>\n",
              "<table border=\"1\" class=\"dataframe\">\n",
              "  <thead>\n",
              "    <tr style=\"text-align: right;\">\n",
              "      <th></th>\n",
              "      <th>name</th>\n",
              "      <th>id</th>\n",
              "      <th>minutes</th>\n",
              "      <th>contributor_id</th>\n",
              "      <th>submitted</th>\n",
              "      <th>tags</th>\n",
              "      <th>nutrition</th>\n",
              "      <th>n_steps</th>\n",
              "      <th>steps</th>\n",
              "      <th>description</th>\n",
              "      <th>ingredients</th>\n",
              "      <th>n_ingredients</th>\n",
              "    </tr>\n",
              "  </thead>\n",
              "  <tbody>\n",
              "    <tr>\n",
              "      <th>0</th>\n",
              "      <td>arriba   baked winter squash mexican style</td>\n",
              "      <td>137739</td>\n",
              "      <td>55</td>\n",
              "      <td>47892</td>\n",
              "      <td>2005-09-16</td>\n",
              "      <td>[60-minutes-or-less, time-to-make, course, mai...</td>\n",
              "      <td>[51.5, 0.0, 13.0, 0.0, 2.0, 0.0, 4.0]</td>\n",
              "      <td>11</td>\n",
              "      <td>[make a choice and proceed with recipe, depend...</td>\n",
              "      <td>autumn is my favorite time of year to cook! th...</td>\n",
              "      <td>[winter squash, mexican seasoning, mixed spice...</td>\n",
              "      <td>7</td>\n",
              "    </tr>\n",
              "    <tr>\n",
              "      <th>1</th>\n",
              "      <td>a bit different  breakfast pizza</td>\n",
              "      <td>31490</td>\n",
              "      <td>30</td>\n",
              "      <td>26278</td>\n",
              "      <td>2002-06-17</td>\n",
              "      <td>[30-minutes-or-less, time-to-make, course, mai...</td>\n",
              "      <td>[173.4, 18.0, 0.0, 17.0, 22.0, 35.0, 1.0]</td>\n",
              "      <td>9</td>\n",
              "      <td>[preheat oven to 425 degrees f, press dough in...</td>\n",
              "      <td>this recipe calls for the crust to be prebaked...</td>\n",
              "      <td>[prepared pizza crust, sausage patty, eggs, mi...</td>\n",
              "      <td>6</td>\n",
              "    </tr>\n",
              "    <tr>\n",
              "      <th>2</th>\n",
              "      <td>all in the kitchen  chili</td>\n",
              "      <td>112140</td>\n",
              "      <td>130</td>\n",
              "      <td>196586</td>\n",
              "      <td>2005-02-25</td>\n",
              "      <td>[time-to-make, course, preparation, main-dish,...</td>\n",
              "      <td>[269.8, 22.0, 32.0, 48.0, 39.0, 27.0, 5.0]</td>\n",
              "      <td>6</td>\n",
              "      <td>[brown ground beef in large pot, add chopped o...</td>\n",
              "      <td>this modified version of 'mom's' chili was a h...</td>\n",
              "      <td>[ground beef, yellow onions, diced tomatoes, t...</td>\n",
              "      <td>13</td>\n",
              "    </tr>\n",
              "  </tbody>\n",
              "</table>\n",
              "</div>"
            ],
            "text/plain": [
              "                                         name  ...  n_ingredients\n",
              "0  arriba   baked winter squash mexican style  ...              7\n",
              "1            a bit different  breakfast pizza  ...              6\n",
              "2                   all in the kitchen  chili  ...             13\n",
              "\n",
              "[3 rows x 12 columns]"
            ]
          },
          "metadata": {
            "tags": []
          },
          "execution_count": 5
        }
      ]
    },
    {
      "cell_type": "code",
      "metadata": {
        "id": "KWjh2tz6Vr2C",
        "colab_type": "code",
        "outputId": "387554dc-363a-470e-d136-4f0d88821856",
        "colab": {
          "base_uri": "https://localhost:8080/",
          "height": 141
        }
      },
      "source": [
        "raw_recipes_df['ingredients'].iloc[0]"
      ],
      "execution_count": 6,
      "outputs": [
        {
          "output_type": "execute_result",
          "data": {
            "text/plain": [
              "['winter squash',\n",
              " 'mexican seasoning',\n",
              " 'mixed spice',\n",
              " 'honey',\n",
              " 'butter',\n",
              " 'olive oil',\n",
              " 'salt']"
            ]
          },
          "metadata": {
            "tags": []
          },
          "execution_count": 6
        }
      ]
    },
    {
      "cell_type": "markdown",
      "metadata": {
        "id": "eHcFAl5utj7j",
        "colab_type": "text"
      },
      "source": [
        "---\n",
        "### Let's Create a plain recipe text"
      ]
    },
    {
      "cell_type": "code",
      "metadata": {
        "id": "sngw1idqVxXa",
        "colab_type": "code",
        "colab": {}
      },
      "source": [
        "def convert_to_plain_text(name, ingredients, steps):\n",
        "    text = '\\n'+name+' \\ningredients: \\n'\n",
        "    for ii, ingredient in enumerate(ingredients):\n",
        "        text += str(ii+1)+'. '+ingredient+'. \\n'\n",
        "    text = text[:-3] + '. \\nsteps: \\n'\n",
        "    for ii, step in enumerate(steps):\n",
        "        text += str(ii+1)+'. '+step+'. \\n'\n",
        "    text += str(ii+2)+'. Finished \\n\\n'\n",
        "    return text\n",
        "    "
      ],
      "execution_count": 0,
      "outputs": []
    },
    {
      "cell_type": "code",
      "metadata": {
        "id": "KGx0Pu3Hjp6E",
        "colab_type": "code",
        "outputId": "6a490597-2c9f-4eea-eecd-1a143b14d590",
        "colab": {
          "base_uri": "https://localhost:8080/",
          "height": 461
        }
      },
      "source": [
        "name = raw_recipes_df['name'].iloc[0]\n",
        "ingredients = raw_recipes_df['ingredients'].iloc[0]\n",
        "steps = raw_recipes_df['steps'].iloc[0]\n",
        "recipe = convert_to_plain_text(name, ingredients, steps)\n",
        "print(recipe)"
      ],
      "execution_count": 8,
      "outputs": [
        {
          "output_type": "stream",
          "text": [
            "\n",
            "arriba   baked winter squash mexican style \n",
            "ingredients: \n",
            "1. winter squash. \n",
            "2. mexican seasoning. \n",
            "3. mixed spice. \n",
            "4. honey. \n",
            "5. butter. \n",
            "6. olive oil. \n",
            "7. salt. \n",
            "steps: \n",
            "1. make a choice and proceed with recipe. \n",
            "2. depending on size of squash , cut into half or fourths. \n",
            "3. remove seeds. \n",
            "4. for spicy squash , drizzle olive oil or melted butter over each cut squash piece. \n",
            "5. season with mexican seasoning mix ii. \n",
            "6. for sweet squash , drizzle melted honey , butter , grated piloncillo over each cut squash piece. \n",
            "7. season with sweet mexican spice mix. \n",
            "8. bake at 350 degrees , again depending on size , for 40 minutes up to an hour , until a fork can easily pierce the skin. \n",
            "9. be careful not to burn the squash especially if you opt to use sugar or butter. \n",
            "10. if you feel more comfortable , cover the squash with aluminum foil the first half hour , give or take , of baking. \n",
            "11. if desired , season with salt. \n",
            "12. Finished \n",
            "\n",
            "\n"
          ],
          "name": "stdout"
        }
      ]
    },
    {
      "cell_type": "code",
      "metadata": {
        "id": "ajPW803TorZV",
        "colab_type": "code",
        "outputId": "c056c37e-3dc0-4923-ab44-351eb4e2484e",
        "colab": {
          "base_uri": "https://localhost:8080/",
          "height": 888
        }
      },
      "source": [
        "import numpy as np\n",
        "import random\n",
        "\n",
        "recipes = []\n",
        "for idx, row in raw_recipes_df.iterrows():\n",
        "    name = row['name']\n",
        "    if type(name) is not str:\n",
        "        print(name)\n",
        "        break\n",
        "    ingredients = row['ingredients']\n",
        "    steps = row['steps']\n",
        "    recipes.append(convert_to_plain_text(name, ingredients, steps))\n",
        "for ii in range(2):\n",
        "    print(recipes[ii])\n",
        "\n",
        "recipe_length = np.array([len(recipe) for recipe in recipes])\n",
        "idx_less_than = np.where(recipe_length <= 2000)[0]\n",
        "print(len(idx_less_than))\n",
        "idx_less_than = random.sample(idx_less_than.tolist(), 100000)\n",
        "print(idx_less_than[:20])"
      ],
      "execution_count": 9,
      "outputs": [
        {
          "output_type": "stream",
          "text": [
            "\n",
            "arriba   baked winter squash mexican style \n",
            "ingredients: \n",
            "1. winter squash. \n",
            "2. mexican seasoning. \n",
            "3. mixed spice. \n",
            "4. honey. \n",
            "5. butter. \n",
            "6. olive oil. \n",
            "7. salt. \n",
            "steps: \n",
            "1. make a choice and proceed with recipe. \n",
            "2. depending on size of squash , cut into half or fourths. \n",
            "3. remove seeds. \n",
            "4. for spicy squash , drizzle olive oil or melted butter over each cut squash piece. \n",
            "5. season with mexican seasoning mix ii. \n",
            "6. for sweet squash , drizzle melted honey , butter , grated piloncillo over each cut squash piece. \n",
            "7. season with sweet mexican spice mix. \n",
            "8. bake at 350 degrees , again depending on size , for 40 minutes up to an hour , until a fork can easily pierce the skin. \n",
            "9. be careful not to burn the squash especially if you opt to use sugar or butter. \n",
            "10. if you feel more comfortable , cover the squash with aluminum foil the first half hour , give or take , of baking. \n",
            "11. if desired , season with salt. \n",
            "12. Finished \n",
            "\n",
            "\n",
            "\n",
            "a bit different  breakfast pizza \n",
            "ingredients: \n",
            "1. prepared pizza crust. \n",
            "2. sausage patty. \n",
            "3. eggs. \n",
            "4. milk. \n",
            "5. salt and pepper. \n",
            "6. cheese. \n",
            "steps: \n",
            "1. preheat oven to 425 degrees f. \n",
            "2. press dough into the bottom and sides of a 12 inch pizza pan. \n",
            "3. bake for 5 minutes until set but not browned. \n",
            "4. cut sausage into small pieces. \n",
            "5. whisk eggs and milk in a bowl until frothy. \n",
            "6. spoon sausage over baked crust and sprinkle with cheese. \n",
            "7. pour egg mixture slowly over sausage and cheese. \n",
            "8. s& p to taste. \n",
            "9. bake 15-20 minutes or until eggs are set and crust is brown. \n",
            "10. Finished \n",
            "\n",
            "\n",
            "221930\n",
            "[20114, 125618, 48770, 31895, 4127, 218383, 134010, 185529, 26781, 123490, 203996, 31007, 136222, 74246, 221986, 217584, 34215, 76384, 173286, 86484]\n"
          ],
          "name": "stdout"
        }
      ]
    },
    {
      "cell_type": "code",
      "metadata": {
        "id": "SBPC1JNC0fEi",
        "colab_type": "code",
        "colab": {}
      },
      "source": [
        "long_recipes = ''.join([recipes[i] for i in idx_less_than])\n",
        "file1 = open(\"MyFile2000.txt\",\"w\")\n",
        "file1.write(long_recipes)\n",
        "file1.close()"
      ],
      "execution_count": 0,
      "outputs": []
    },
    {
      "cell_type": "markdown",
      "metadata": {
        "id": "4NzoKTWKPNvj",
        "colab_type": "text"
      },
      "source": [
        "---\n",
        "## Fine Tuning Pretrained GPT-2"
      ]
    },
    {
      "cell_type": "markdown",
      "metadata": {
        "id": "Zt6YLrITLbj8",
        "colab_type": "text"
      },
      "source": [
        "----\n",
        "### Load Plain text file"
      ]
    },
    {
      "cell_type": "code",
      "metadata": {
        "id": "-fw3hqlQBivW",
        "colab_type": "code",
        "outputId": "b0cb52a7-315f-441d-ad99-9ffba00fa15a",
        "colab": {
          "base_uri": "https://localhost:8080/",
          "height": 52
        }
      },
      "source": [
        "import torch\n",
        "import torch.nn as nn\n",
        "import torch.nn.functional as F\n",
        "from torch.utils.data import TensorDataset, DataLoader, Dataset\n",
        "from transformers import GPT2Tokenizer, GPT2LMHeadModel, AdamW, get_linear_schedule_with_warmup\n",
        "# check if CUDA is available\n",
        "train_on_gpu = torch.cuda.is_available()\n",
        "\n",
        "if not train_on_gpu:\n",
        "    print('CUDA is not available.  Training on CPU ...')\n",
        "else:\n",
        "    print('CUDA is available!  Training on GPU ...')\n",
        "    print(f'Device name = {torch.cuda.get_device_name(0)}')\n",
        "device = torch.device(\"cuda:0\" if torch.cuda.is_available() else \"cpu\")"
      ],
      "execution_count": 11,
      "outputs": [
        {
          "output_type": "stream",
          "text": [
            "CUDA is available!  Training on GPU ...\n",
            "Device name = Tesla P100-PCIE-16GB\n"
          ],
          "name": "stdout"
        }
      ]
    },
    {
      "cell_type": "code",
      "metadata": {
        "id": "rCB3KenvE8Ca",
        "colab_type": "code",
        "colab": {}
      },
      "source": [
        "text_file = open(\"MyFile2000.txt\", \"r\")\n",
        "recipes = text_file.read().split('\\n\\n')"
      ],
      "execution_count": 0,
      "outputs": []
    },
    {
      "cell_type": "code",
      "metadata": {
        "id": "E-7oNUu9svSf",
        "colab_type": "code",
        "outputId": "e67cb2d7-f949-48e1-98b8-eaa5ce85ceb9",
        "colab": {
          "base_uri": "https://localhost:8080/",
          "height": 35
        }
      },
      "source": [
        "recipe_length = [len(recipe) for recipe in recipes]\n",
        "recipe_length[:10]"
      ],
      "execution_count": 13,
      "outputs": [
        {
          "output_type": "execute_result",
          "data": {
            "text/plain": [
              "[757, 816, 1486, 832, 1296, 696, 222, 351, 590, 437]"
            ]
          },
          "metadata": {
            "tags": []
          },
          "execution_count": 13
        }
      ]
    },
    {
      "cell_type": "code",
      "metadata": {
        "id": "Bp3HvK1lxMNr",
        "colab_type": "code",
        "outputId": "38666a02-29b7-4d8f-a1ba-eceadc6317b5",
        "colab": {
          "base_uri": "https://localhost:8080/",
          "height": 409
        }
      },
      "source": [
        "# Character length of each recipe\n",
        "import statistics\n",
        "import seaborn as sns\n",
        "print(min(recipe_length))\n",
        "print(max(recipe_length)) \n",
        "print(statistics.mean(recipe_length)) \n",
        "print(statistics.median(recipe_length))\n",
        "sns.distplot(recipe_length)"
      ],
      "execution_count": 14,
      "outputs": [
        {
          "output_type": "stream",
          "text": [
            "0\n",
            "1998\n",
            "773.6066239337607\n",
            "709\n"
          ],
          "name": "stdout"
        },
        {
          "output_type": "stream",
          "text": [
            "/usr/local/lib/python3.6/dist-packages/statsmodels/tools/_testing.py:19: FutureWarning: pandas.util.testing is deprecated. Use the functions in the public API at pandas.testing instead.\n",
            "  import pandas.util.testing as tm\n"
          ],
          "name": "stderr"
        },
        {
          "output_type": "execute_result",
          "data": {
            "text/plain": [
              "<matplotlib.axes._subplots.AxesSubplot at 0x7f7afadcb908>"
            ]
          },
          "metadata": {
            "tags": []
          },
          "execution_count": 14
        },
        {
          "output_type": "display_data",
          "data": {
            "image/png": "[encoded data removed]",
            "text/plain": [
              "<Figure size 432x288 with 1 Axes>"
            ]
          },
          "metadata": {
            "tags": [],
            "needs_background": "light"
          }
        }
      ]
    },
    {
      "cell_type": "markdown",
      "metadata": {
        "id": "GcO8x2wVBto_",
        "colab_type": "text"
      },
      "source": [
        "---\n",
        "### Create Dataset Loader"
      ]
    },
    {
      "cell_type": "code",
      "metadata": {
        "id": "PnYa9r2cCIRo",
        "colab_type": "code",
        "colab": {}
      },
      "source": [
        "max_length = 768\n",
        "pretrained_model = 'gpt2'\n",
        "tokenizer = GPT2Tokenizer.from_pretrained(pretrained_model)\n",
        "tokenizer.pad_token = tokenizer.eos_token\n",
        "recipes_str = '\\n\\n'.join(recipes)\n",
        "class RecipeDataset(Dataset):\n",
        "    def __init__(self, recipes, tokenizer, max_len):\n",
        "        self.sentences = recipes\n",
        "        self.tokenizer = tokenizer\n",
        "        self.max_len = max_len\n",
        "\n",
        "        block_size = self.max_len - (\n",
        "            self.tokenizer.max_len - self.tokenizer.max_len_single_sentence\n",
        "        )\n",
        "\n",
        "        tokenized_text = tokenizer.convert_tokens_to_ids(tokenizer.tokenize(self.sentences))\n",
        "        self.examples = []\n",
        "        for i in range(0, len(tokenized_text) - block_size + 1, block_size):\n",
        "                self.examples.append(\n",
        "                    tokenizer.build_inputs_with_special_tokens(\n",
        "                        tokenized_text[i : i + block_size]\n",
        "                    )\n",
        "                )\n",
        "    \n",
        "    def __len__(self):\n",
        "        return len(self.examples)\n",
        "    \n",
        "    def __getitem__(self, item):\n",
        "        return torch.tensor(self.examples[item], dtype=torch.long)\n",
        "\n",
        "        return {\n",
        "        'text': sentence,\n",
        "        'input_ids': encoded['input_ids'].flatten(),\n",
        "        'attention_mask': encoded['attention_mask'].flatten()\n",
        "        }\n",
        "\n",
        "def create_loader(recipes, tokenizer, max_len, batch_size):\n",
        "  ds = RecipeDataset(\n",
        "    recipes=recipes,\n",
        "    tokenizer=tokenizer,\n",
        "    max_len=max_len\n",
        "  )\n",
        "  return DataLoader(\n",
        "    ds,\n",
        "    batch_size=batch_size,\n",
        "    num_workers=4\n",
        "  )\n",
        "\n",
        "train_batch_size = 4\n",
        "\n",
        "train_loader = create_loader(recipes_str, tokenizer, max_length, train_batch_size)"
      ],
      "execution_count": 0,
      "outputs": []
    },
    {
      "cell_type": "code",
      "metadata": {
        "id": "nzTF5H8zH0Yt",
        "colab_type": "code",
        "outputId": "a8b96829-fa29-4405-de7b-d99a21cceadd",
        "colab": {
          "base_uri": "https://localhost:8080/",
          "height": 1000
        }
      },
      "source": [
        "dataiter = iter(train_loader)\n",
        "data = next(dataiter)\n",
        "\n",
        "print('Sample input size: ', data.shape)\n",
        "print('Sample input: ', data)\n",
        "print('Sample 1: \\n', tokenizer.decode(data[0], skip_special_tokens=True))"
      ],
      "execution_count": 16,
      "outputs": [
        {
          "output_type": "stream",
          "text": [
            "Sample input size:  torch.Size([4, 768])\n",
            "Sample input:  tensor([[  198,  1350,   891,  ...,   285,  1586,   518],\n",
            "        [  416,   262,   352,  ...,   351,   517,   374],\n",
            "        [ 5185,    78,  9891,  ...,   290, 11348, 18128],\n",
            "        [ 8163, 26320, 28450,  ...,  1566,   262, 15756]])\n",
            "Sample 1: \n",
            " \n",
            "beef short ribs stew \n",
            "ingredients: \n",
            "1. short rib of beef. \n",
            "2. olive oil. \n",
            "3. onion. \n",
            "4. carrots. \n",
            "5. celery. \n",
            "6. garlic. \n",
            "7. red wine. \n",
            "8. tomato paste. \n",
            "9. beef stock. \n",
            "10. bay leaves. \n",
            "11. fresh thyme. \n",
            "12. salt and pepper. \n",
            "steps: \n",
            "1. heat oil in a large pot, season ribs and brown evenly and thoroughly. \n",
            "2. remove ribs and reserve on a plate, and then add onions, carrot and celery to the pot. \n",
            "3. saut, making sure to scrape up any brown bits on the bottom of the pan until the vegetables are caramelized. \n",
            "4. add garlic, wine and tomato paste and stir well. \n",
            "5. add beef stock and beef and bring to a simmer, covered, for 2-3 hours, until meat is very tender, and beginning to fall of the bone. \n",
            "6. serve with mashed potatoes. \n",
            "7. Finished \n",
            "\n",
            "\n",
            "maharaja curry \n",
            "ingredients: \n",
            "1. vegetable oil. \n",
            "2. cumin seed. \n",
            "3. onions. \n",
            "4. ground turmeric. \n",
            "5. cayenne pepper. \n",
            "6. garam masala. \n",
            "7. garlic clove. \n",
            "8. ginger. \n",
            "9. chopped tomatoes. \n",
            "10. boneless chicken breast. \n",
            "steps: \n",
            "1. heat oil in a large saucepan over medium heat. \n",
            "2. stir in cumin seed and cook until they start to pop, 20 to 45 seconds. \n",
            "3. stir in onion, and cook until golden brown, about 5 minutes. \n",
            "4. season with turmeric, cayenne, garam masala, garlic, and ginger. \n",
            "5. cook for 1 to 2 minutes until fragrant. \n",
            "6. puree the mixture with the tomatoes in a blender until smooth. \n",
            "7. return the puree to the saucepan, and add the chicken. \n",
            "8. simmer gently until the chicken has cooked, about 20 minutes. \n",
            "9. add water as needed while cooking to maintain desired consistency. \n",
            "10. Finished \n",
            "\n",
            "\n",
            "chocolate chip meringue cookies \n",
            "ingredients: \n",
            "1. egg whites. \n",
            "2. salt. \n",
            "3. cream of tartar. \n",
            "4. vanilla extract. \n",
            "5. sugar. \n",
            "6. cocoa powder. \n",
            "7. semi-sweet chocolate chips. \n",
            "steps: \n",
            "1. preheat oven to 225 degrees. \n",
            "2. in a medium bowl, beat egg whites, salt, cream of tartar, vanilla and cocoa powder until soft peaks form. \n",
            "3. gradually add sugar and continue to beat until meringue is stiff and glossy. \n",
            "4. please. \n",
            "5. the cookies will spread and be thinner rather than lofty if poured on the sheet prematurely. \n",
            "6. you don't want the whites to break. \n",
            "7. that will result in failed meringues but you are going to beat these a long time -- sometimes it takes me 5 minutes or more! a stand mixer sure is a plus here. \n",
            "8. what we are doing is incorporating air into the egg whites. \n",
            "9. that is what makes these cookies lofty, big and light in texture!. \n",
            "10. gently fold in the chocolate chips. \n",
            "11. on a parchment-lined baking sheet, drop meringue\n"
          ],
          "name": "stdout"
        }
      ]
    },
    {
      "cell_type": "markdown",
      "metadata": {
        "id": "OVWjmH4-NZmV",
        "colab_type": "text"
      },
      "source": [
        "---\n",
        "### Define Model"
      ]
    },
    {
      "cell_type": "code",
      "metadata": {
        "id": "w0HeiZ7kIASU",
        "colab_type": "code",
        "colab": {}
      },
      "source": [
        "model = GPT2LMHeadModel.from_pretrained(pretrained_model)"
      ],
      "execution_count": 0,
      "outputs": []
    },
    {
      "cell_type": "code",
      "metadata": {
        "id": "-w8-LRmLNd3P",
        "colab_type": "code",
        "colab": {}
      },
      "source": [
        "BATCH_SIZE = 1\n",
        "EPOCHS = 2\n",
        "LEARNING_RATE = 1e-4\n",
        "WARMUP_STEPS = 10000"
      ],
      "execution_count": 0,
      "outputs": []
    },
    {
      "cell_type": "code",
      "metadata": {
        "id": "txDg8w_0N6IC",
        "colab_type": "code",
        "colab": {}
      },
      "source": [
        "torch.cuda.empty_cache()\n",
        "model = model.to(device)\n",
        "model.train()\n",
        "optimizer = torch.optim.Adam(model.parameters(), lr=LEARNING_RATE)\n",
        "# scheduler = get_linear_schedule_with_warmup(optimizer, num_warmup_steps=WARMUP_STEPS, num_training_steps=-1)\n",
        "sum_loss = 0.0\n",
        "batch_count = 0"
      ],
      "execution_count": 0,
      "outputs": []
    },
    {
      "cell_type": "markdown",
      "metadata": {
        "id": "MFAIJvogO8Bd",
        "colab_type": "text"
      },
      "source": [
        "---\n",
        "### Train Model"
      ]
    },
    {
      "cell_type": "code",
      "metadata": {
        "id": "hgXAer4Bw960",
        "colab_type": "code",
        "outputId": "1e0f0397-b03e-4360-931b-929370db558f",
        "colab": {
          "base_uri": "https://localhost:8080/",
          "height": 710
        }
      },
      "source": [
        "print(recipes_str[:1000])"
      ],
      "execution_count": 20,
      "outputs": [
        {
          "output_type": "stream",
          "text": [
            "\n",
            "beef short ribs stew \n",
            "ingredients: \n",
            "1. short rib of beef. \n",
            "2. olive oil. \n",
            "3. onion. \n",
            "4. carrots. \n",
            "5. celery. \n",
            "6. garlic. \n",
            "7. red wine. \n",
            "8. tomato paste. \n",
            "9. beef stock. \n",
            "10. bay leaves. \n",
            "11. fresh thyme. \n",
            "12. salt and pepper. \n",
            "steps: \n",
            "1. heat oil in a large pot , season ribs and brown evenly and thoroughly. \n",
            "2. remove ribs and reserve on a plate , and then add onions , carrot and celery to the pot. \n",
            "3. saut , making sure to scrape up any brown bits on the bottom of the pan until the vegetables are caramelized. \n",
            "4. add garlic , wine and tomato paste and stir well. \n",
            "5. add beef stock and beef and bring to a simmer , covered , for 2-3 hours , until meat is very tender , and beginning to fall of the bone. \n",
            "6. serve with mashed potatoes. \n",
            "7. Finished \n",
            "\n",
            "\n",
            "maharaja curry \n",
            "ingredients: \n",
            "1. vegetable oil. \n",
            "2. cumin seed. \n",
            "3. onions. \n",
            "4. ground turmeric. \n",
            "5. cayenne pepper. \n",
            "6. garam masala. \n",
            "7. garlic clove. \n",
            "8. ginger. \n",
            "9. chopped tomatoes. \n",
            "10. boneless chicken breast. \n",
            "steps: \n",
            "1. heat oil in\n"
          ],
          "name": "stdout"
        }
      ]
    },
    {
      "cell_type": "code",
      "metadata": {
        "id": "y4nY6gW6OmXK",
        "colab_type": "code",
        "outputId": "db289f34-c0a7-4865-c4a2-0abad2bf3aef",
        "colab": {
          "base_uri": "https://localhost:8080/",
          "height": 1000,
          "referenced_widgets": [
            "987b58f273214538b5852b8a799a76e0",
            "c49210de38bc43cdb028438a8e328c11",
            "7fd2d90553894143a665a38c009b9e14",
            "1ac79b93f51442d8bd7d68da730bd313",
            "809c9625a17c4c89aaedaf28458e8e43",
            "78d0160629c042ae879bc0cf8ddb528a",
            "24cabf3a421f4fb3862f75340a2d3caf",
            "0b44ab5eb0fa42ae8eec2902443f378b",
            "4e7984b0cd264b6c82b33d794ceee317",
            "fa94b4b820fd406ab5727296a94ed595",
            "4b81ff3282e5447491653251431579ab",
            "1673d644fb83463dada6e70b02aa4fbd",
            "ed9d32b9d99d4dd2a85a256d28fee452",
            "b5f6068cab1443888195f84f079107ca",
            "8df13360c8dc4bc6990d7da262639838",
            "923cafe1affc4e729774311ce874bb43"
          ]
        }
      },
      "source": [
        "import time\n",
        "from tqdm.notebook import tqdm\n",
        "print(\"Training on \", device)\n",
        "print(\"====================TRAINING PROCESS====================\")\n",
        "for epoch in range(EPOCHS):\n",
        "    print(f\"EPOCH {epoch} started\" + '=' * 30)\n",
        "    time.sleep(0.2)\n",
        "    t0 = time.time()\n",
        "    # keep track of training and validation loss\n",
        "    train_loss = 0.0\n",
        "    script_count = 0\n",
        "\n",
        "    for d in tqdm(train_loader):\n",
        "        input_ids = d.to(device)\n",
        "        labels = d.to(device)\n",
        "        outputs = model(input_ids, labels=labels)\n",
        "        script_count = script_count + 1\n",
        "        loss, logits = outputs[:2]                        \n",
        "        loss.backward()\n",
        "        train_loss = train_loss + loss.detach().data\n",
        "                       \n",
        "        optimizer.step()\n",
        "        # scheduler.step() \n",
        "        optimizer.zero_grad()\n",
        "        model.zero_grad()\n",
        "\n",
        "        if script_count % 250 == 0:\n",
        "            print(\"Epoch: {}/{}...\".format(epoch+1, EPOCHS),\n",
        "            \"Step: {}...\".format(script_count),\n",
        "            \"Loss: {:.6f}...\".format(train_loss/script_count),\n",
        "           \"Time elapsed: {:.1f}\".format( time.time()-t0))"
      ],
      "execution_count": 23,
      "outputs": [
        {
          "output_type": "stream",
          "text": [
            "Training on  cuda:0\n",
            "====================TRAINING PROCESS====================\n",
            "EPOCH 0 started==============================\n"
          ],
          "name": "stdout"
        },
        {
          "output_type": "display_data",
          "data": {
            "application/vnd.jupyter.widget-view+json": {
              "model_id": "987b58f273214538b5852b8a799a76e0",
              "version_minor": 0,
              "version_major": 2
            },
            "text/plain": [
              "HBox(children=(FloatProgress(value=0.0, max=7889.0), HTML(value='')))"
            ]
          },
          "metadata": {
            "tags": []
          }
        },
        {
          "output_type": "stream",
          "text": [
            "Epoch: 1/2... Step: 250... Loss: 1.634520... Time elapsed: 134.4\n",
            "Epoch: 1/2... Step: 500... Loss: 1.613649... Time elapsed: 268.4\n",
            "Epoch: 1/2... Step: 750... Loss: 1.594459... Time elapsed: 402.5\n",
            "Epoch: 1/2... Step: 1000... Loss: 1.577263... Time elapsed: 536.8\n",
            "Epoch: 1/2... Step: 1250... Loss: 1.562351... Time elapsed: 671.1\n",
            "Epoch: 1/2... Step: 1500... Loss: 1.550785... Time elapsed: 805.4\n",
            "Epoch: 1/2... Step: 1750... Loss: 1.539942... Time elapsed: 939.7\n",
            "Epoch: 1/2... Step: 2000... Loss: 1.530887... Time elapsed: 1074.2\n",
            "Epoch: 1/2... Step: 2250... Loss: 1.521158... Time elapsed: 1208.5\n",
            "Epoch: 1/2... Step: 2500... Loss: 1.512070... Time elapsed: 1342.9\n",
            "Epoch: 1/2... Step: 2750... Loss: 1.504713... Time elapsed: 1477.3\n",
            "Epoch: 1/2... Step: 3000... Loss: 1.498210... Time elapsed: 1611.8\n",
            "Epoch: 1/2... Step: 3250... Loss: 1.490958... Time elapsed: 1746.2\n",
            "Epoch: 1/2... Step: 3500... Loss: 1.485000... Time elapsed: 1880.6\n",
            "Epoch: 1/2... Step: 3750... Loss: 1.478581... Time elapsed: 2015.2\n",
            "Epoch: 1/2... Step: 4000... Loss: 1.473371... Time elapsed: 2149.6\n",
            "Epoch: 1/2... Step: 4250... Loss: 1.467902... Time elapsed: 2284.2\n",
            "Epoch: 1/2... Step: 4500... Loss: 1.463674... Time elapsed: 2418.5\n",
            "Epoch: 1/2... Step: 4750... Loss: 1.458848... Time elapsed: 2552.9\n",
            "Epoch: 1/2... Step: 5000... Loss: 1.454456... Time elapsed: 2687.2\n",
            "Epoch: 1/2... Step: 5250... Loss: 1.449650... Time elapsed: 2821.6\n",
            "Epoch: 1/2... Step: 5500... Loss: 1.445472... Time elapsed: 2955.9\n",
            "Epoch: 1/2... Step: 5750... Loss: 1.441502... Time elapsed: 3090.4\n",
            "Epoch: 1/2... Step: 6000... Loss: 1.437797... Time elapsed: 3224.8\n",
            "Epoch: 1/2... Step: 6250... Loss: 1.433922... Time elapsed: 3359.3\n",
            "Epoch: 1/2... Step: 6500... Loss: 1.430472... Time elapsed: 3493.7\n",
            "Epoch: 1/2... Step: 6750... Loss: 1.427241... Time elapsed: 3628.1\n",
            "Epoch: 1/2... Step: 7000... Loss: 1.423352... Time elapsed: 3762.5\n",
            "Epoch: 1/2... Step: 7250... Loss: 1.419771... Time elapsed: 3897.0\n",
            "Epoch: 1/2... Step: 7500... Loss: 1.416639... Time elapsed: 4031.3\n",
            "Epoch: 1/2... Step: 7750... Loss: 1.413512... Time elapsed: 4165.8\n",
            "\n",
            "EPOCH 1 started==============================\n"
          ],
          "name": "stdout"
        },
        {
          "output_type": "display_data",
          "data": {
            "application/vnd.jupyter.widget-view+json": {
              "model_id": "4e7984b0cd264b6c82b33d794ceee317",
              "version_minor": 0,
              "version_major": 2
            },
            "text/plain": [
              "HBox(children=(FloatProgress(value=0.0, max=7889.0), HTML(value='')))"
            ]
          },
          "metadata": {
            "tags": []
          }
        },
        {
          "output_type": "stream",
          "text": [
            "Epoch: 2/2... Step: 250... Loss: 1.305289... Time elapsed: 134.6\n",
            "Epoch: 2/2... Step: 500... Loss: 1.300605... Time elapsed: 269.1\n",
            "Epoch: 2/2... Step: 750... Loss: 1.298922... Time elapsed: 403.5\n",
            "Epoch: 2/2... Step: 1000... Loss: 1.296748... Time elapsed: 537.9\n",
            "Epoch: 2/2... Step: 1250... Loss: 1.294306... Time elapsed: 672.3\n",
            "Epoch: 2/2... Step: 1500... Loss: 1.293636... Time elapsed: 806.8\n",
            "Epoch: 2/2... Step: 1750... Loss: 1.292798... Time elapsed: 941.2\n",
            "Epoch: 2/2... Step: 2000... Loss: 1.292143... Time elapsed: 1075.7\n",
            "Epoch: 2/2... Step: 2250... Loss: 1.290253... Time elapsed: 1210.1\n",
            "Epoch: 2/2... Step: 2500... Loss: 1.288178... Time elapsed: 1344.6\n",
            "Epoch: 2/2... Step: 2750... Loss: 1.287331... Time elapsed: 1479.0\n",
            "Epoch: 2/2... Step: 3000... Loss: 1.286575... Time elapsed: 1613.3\n",
            "Epoch: 2/2... Step: 3250... Loss: 1.284700... Time elapsed: 1747.7\n",
            "Epoch: 2/2... Step: 3500... Loss: 1.283678... Time elapsed: 1882.2\n",
            "Epoch: 2/2... Step: 3750... Loss: 1.281945... Time elapsed: 2016.6\n",
            "Epoch: 2/2... Step: 4000... Loss: 1.281169... Time elapsed: 2151.0\n",
            "Epoch: 2/2... Step: 4250... Loss: 1.279760... Time elapsed: 2285.4\n",
            "Epoch: 2/2... Step: 4500... Loss: 1.279337... Time elapsed: 2419.8\n",
            "Epoch: 2/2... Step: 4750... Loss: 1.278105... Time elapsed: 2554.3\n",
            "Epoch: 2/2... Step: 5000... Loss: 1.277092... Time elapsed: 2688.7\n",
            "Epoch: 2/2... Step: 5250... Loss: 1.275549... Time elapsed: 2823.1\n",
            "Epoch: 2/2... Step: 5500... Loss: 1.274378... Time elapsed: 2957.5\n",
            "Epoch: 2/2... Step: 5750... Loss: 1.273294... Time elapsed: 3092.0\n",
            "Epoch: 2/2... Step: 6000... Loss: 1.272390... Time elapsed: 3226.4\n",
            "Epoch: 2/2... Step: 6250... Loss: 1.271151... Time elapsed: 3360.9\n",
            "Epoch: 2/2... Step: 6500... Loss: 1.270269... Time elapsed: 3495.4\n",
            "Epoch: 2/2... Step: 6750... Loss: 1.269474... Time elapsed: 3629.8\n",
            "Epoch: 2/2... Step: 7000... Loss: 1.267943... Time elapsed: 3764.3\n",
            "Epoch: 2/2... Step: 7250... Loss: 1.266582... Time elapsed: 3898.6\n",
            "Epoch: 2/2... Step: 7500... Loss: 1.265562... Time elapsed: 4033.0\n",
            "Epoch: 2/2... Step: 7750... Loss: 1.264501... Time elapsed: 4167.4\n",
            "\n"
          ],
          "name": "stdout"
        }
      ]
    },
    {
      "cell_type": "code",
      "metadata": {
        "id": "W956Jo2OSYs6",
        "colab_type": "code",
        "outputId": "663480ec-5a39-4af0-f785-07791bc94a0f",
        "colab": {
          "base_uri": "https://localhost:8080/",
          "height": 70
        }
      },
      "source": [
        "from transformers import WEIGHTS_NAME, CONFIG_NAME\n",
        "print(WEIGHTS_NAME,' ',CONFIG_NAME)\n",
        "torch.save(model.state_dict(), '/content/drive/My Drive/datasets/food_recipe/recipe_model2.pt')\n",
        "model.config.to_json_file('/content/drive/My Drive/datasets/food_recipe/config2.json')\n",
        "tokenizer.save_vocabulary('/content/drive/My Drive/datasets/food_recipe/')"
      ],
      "execution_count": 24,
      "outputs": [
        {
          "output_type": "stream",
          "text": [
            "pytorch_model.bin   config.json\n"
          ],
          "name": "stdout"
        },
        {
          "output_type": "execute_result",
          "data": {
            "text/plain": [
              "('/content/drive/My Drive/datasets/food_recipe/vocab.json',\n",
              " '/content/drive/My Drive/datasets/food_recipe/merges.txt')"
            ]
          },
          "metadata": {
            "tags": []
          },
          "execution_count": 24
        }
      ]
    },
    {
      "cell_type": "markdown",
      "metadata": {
        "id": "R4kgPQIQrTKy",
        "colab_type": "text"
      },
      "source": [
        "---\n",
        "## Evaluate Model"
      ]
    },
    {
      "cell_type": "code",
      "metadata": {
        "id": "PNPFnO_fqRLs",
        "colab_type": "code",
        "colab": {}
      },
      "source": [
        "input_ids = tokenizer.encode('spicy chicken rice', return_tensors='pt')"
      ],
      "execution_count": 0,
      "outputs": []
    },
    {
      "cell_type": "code",
      "metadata": {
        "id": "yV1c74vhraqz",
        "colab_type": "code",
        "outputId": "bbcf6861-6c91-467e-b88a-48fc85d78331",
        "colab": {
          "base_uri": "https://localhost:8080/",
          "height": 835
        }
      },
      "source": [
        "model.eval()\n",
        "sample_outputs = model.generate(\n",
        "                        input_ids= input_ids.to(device),\n",
        "                        do_sample=True,\n",
        "                        num_beams= 5,\n",
        "                        max_length = 350,\n",
        "                        temperature = 0.7,\n",
        "                        top_p=0.85,\n",
        "                        repetition_penalty = 1,\n",
        "                    )\n",
        "\n",
        "print(\"Output:\\n\" + 100 * '-')\n",
        "for i, sample_output in enumerate(sample_outputs):\n",
        "      print(\"{}\".format(tokenizer.decode(sample_output, skip_special_tokens=True)))"
      ],
      "execution_count": 42,
      "outputs": [
        {
          "output_type": "stream",
          "text": [
            "Setting `pad_token_id` to 50256 (first `eos_token_id`) to generate sequence\n"
          ],
          "name": "stderr"
        },
        {
          "output_type": "stream",
          "text": [
            "Output:\n",
            "----------------------------------------------------------------------------------------------------\n",
            "spicy chicken rice \n",
            "ingredients: \n",
            "1. chicken breasts. \n",
            "2. onion. \n",
            "3. garlic cloves. \n",
            "4. ground cumin. \n",
            "5. ground coriander. \n",
            "6. ground turmeric. \n",
            "7. ground cayenne pepper. \n",
            "8. salt. \n",
            "9. black pepper. \n",
            "10. vegetable oil. \n",
            "11. rice. \n",
            "12. water. \n",
            "13. cilantro. \n",
            "steps: \n",
            "1. heat the oil in a large skillet over medium heat. \n",
            "2. add the chicken, onion, garlic, cumin, coriander, turmeric, cayenne pepper, salt and pepper. \n",
            "3. saute until the chicken is no longer pink, about 5 minutes. \n",
            "4. add the rice and water. \n",
            "5. bring to a boil. \n",
            "6. reduce the heat and simmer, covered, until the rice is tender, about 20 minutes. \n",
            "7. stir in the cilantro. \n",
            "8. serve hot. \n",
            "9. Finished \n",
            "\n",
            "\n",
            "sausage and cheese casserole \n",
            "ingredients: \n",
            "1. bulk pork sausage. \n",
            "2. onion. \n",
            "3. cream of mushroom soup. \n",
            "4. milk. \n",
            "5. cheddar cheese. \n",
            "6. cheddar cheese. \n",
            "7. salt. \n",
            "8. pepper. \n",
            "9. cayenne pepper. \n",
            "steps: \n",
            "1. brown sausage in skillet. \n",
            "2. drain grease. \n",
            "3. add onion and saute until tender. \n",
            "\n"
          ],
          "name": "stdout"
        }
      ]
    },
    {
      "cell_type": "code",
      "metadata": {
        "id": "K8S5Yze8row9",
        "colab_type": "code",
        "colab": {}
      },
      "source": [
        ""
      ],
      "execution_count": 0,
      "outputs": []
    }
  ]
}