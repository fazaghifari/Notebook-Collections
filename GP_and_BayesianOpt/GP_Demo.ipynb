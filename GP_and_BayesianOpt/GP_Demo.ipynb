{
  "nbformat": 4,
  "nbformat_minor": 0,
  "metadata": {
    "colab": {
      "name": "Kriging Demo.ipynb",
      "provenance": [],
      "collapsed_sections": [],
      "toc_visible": true,
      "authorship_tag": "ABX9TyOn+4ujy0Hl1zawzdJqZhQJ",
      "include_colab_link": true
    },
    "kernelspec": {
      "name": "python3",
      "display_name": "Python 3"
    }
  },
  "cells": [
    {
      "cell_type": "markdown",
      "metadata": {
        "id": "view-in-github",
        "colab_type": "text"
      },
      "source": [
        "<a href=\"https://colab.research.google.com/github/fazaghifari/Notebook-Collections/blob/master/GaussianProcess/GP_Demo.ipynb\" target=\"_parent\"><img src=\"https://colab.research.google.com/assets/colab-badge.svg\" alt=\"Open In Colab\"/></a>"
      ]
    },
    {
      "cell_type": "markdown",
      "metadata": {
        "id": "OGoCDRa8kTjI",
        "colab_type": "text"
      },
      "source": [
        "# Kriging (Gaussian Process) Demo\n",
        "First, let's clone KADAL from Github Repo"
      ]
    },
    {
      "cell_type": "code",
      "metadata": {
        "id": "f-fb4rdNkLjT",
        "colab_type": "code",
        "outputId": "3d807dda-cb85-4652-8d69-0519bf8473d6",
        "colab": {
          "base_uri": "https://localhost:8080/",
          "height": 978
        }
      },
      "source": [
        "# There will be some errors in the installation, just ignore it.\n",
        "!pip install git+https://github.com/flowdiagnosticsitb/KADAL.git"
      ],
      "execution_count": 0,
      "outputs": [
        {
          "output_type": "stream",
          "text": [
            "Collecting git+https://github.com/flowdiagnosticsitb/KADAL.git\n",
            "  Cloning https://github.com/flowdiagnosticsitb/KADAL.git to /tmp/pip-req-build-2eskf40h\n",
            "  Running command git clone -q https://github.com/flowdiagnosticsitb/KADAL.git /tmp/pip-req-build-2eskf40h\n",
            "Requirement already satisfied: numpy in /usr/local/lib/python3.6/dist-packages (from kadal==1.0.2) (1.18.3)\n",
            "Requirement already satisfied: scipy in /usr/local/lib/python3.6/dist-packages (from kadal==1.0.2) (1.4.1)\n",
            "Requirement already satisfied: scikit-learn in /usr/local/lib/python3.6/dist-packages (from kadal==1.0.2) (0.22.2.post1)\n",
            "Collecting comet-ml\n",
            "\u001b[?25l  Downloading https://files.pythonhosted.org/packages/29/e0/d6aa47fbbec4313a7e7c7752ed74667f28188482acdc0beb18a46cc7d584/comet_ml-3.1.6-py2.py3-none-any.whl (196kB)\n",
            "\u001b[K     |████████████████████████████████| 204kB 2.8MB/s \n",
            "\u001b[?25hRequirement already satisfied: matplotlib in /usr/local/lib/python3.6/dist-packages (from kadal==1.0.2) (3.2.1)\n",
            "Collecting sobolsampling\n",
            "\u001b[?25l  Downloading https://files.pythonhosted.org/packages/88/0c/a0d39eda51eeb3a08afe1ff838be94c0c7b1156623ac78daf6edd058575e/sobolsampling-0.1.2-py3-none-any.whl (678kB)\n",
            "\u001b[K     |████████████████████████████████| 686kB 8.8MB/s \n",
            "\u001b[?25hRequirement already satisfied: joblib>=0.11 in /usr/local/lib/python3.6/dist-packages (from scikit-learn->kadal==1.0.2) (0.14.1)\n",
            "Requirement already satisfied: nvidia-ml-py3>=7.352.0 in /usr/local/lib/python3.6/dist-packages (from comet-ml->kadal==1.0.2) (7.352.0)\n",
            "Requirement already satisfied: jsonschema<3.1.0,>=2.6.0 in /usr/local/lib/python3.6/dist-packages (from comet-ml->kadal==1.0.2) (2.6.0)\n",
            "Collecting wurlitzer>=1.0.2\n",
            "  Downloading https://files.pythonhosted.org/packages/24/5e/f3bd8443bfdf96d2f5d10097d301076a9eb55637b7864e52d2d1a4d8c72a/wurlitzer-2.0.0-py2.py3-none-any.whl\n",
            "Requirement already satisfied: six in /usr/local/lib/python3.6/dist-packages (from comet-ml->kadal==1.0.2) (1.12.0)\n",
            "Collecting websocket-client>=0.55.0\n",
            "\u001b[?25l  Downloading https://files.pythonhosted.org/packages/4c/5f/f61b420143ed1c8dc69f9eaec5ff1ac36109d52c80de49d66e0c36c3dfdf/websocket_client-0.57.0-py2.py3-none-any.whl (200kB)\n",
            "\u001b[K     |████████████████████████████████| 204kB 10.1MB/s \n",
            "\u001b[?25hCollecting everett[ini]>=1.0.1; python_version >= \"3.0\"\n",
            "  Downloading https://files.pythonhosted.org/packages/12/34/de70a3d913411e40ce84966f085b5da0c6df741e28c86721114dd290aaa0/everett-1.0.2-py2.py3-none-any.whl\n",
            "Collecting typing-extensions>=3.7.4\n",
            "  Downloading https://files.pythonhosted.org/packages/0c/0e/3f026d0645d699e7320b59952146d56ad7c374e9cd72cd16e7c74e657a0f/typing_extensions-3.7.4.2-py3-none-any.whl\n",
            "Collecting comet-git-pure>=0.19.11\n",
            "\u001b[?25l  Downloading https://files.pythonhosted.org/packages/72/7a/483413046e48908986a0f9a1d8a917e1da46ae58e6ba16b2ac71b3adf8d7/comet_git_pure-0.19.16-py3-none-any.whl (409kB)\n",
            "\u001b[K     |████████████████████████████████| 419kB 14.5MB/s \n",
            "\u001b[?25hRequirement already satisfied: requests>=2.18.4 in /usr/local/lib/python3.6/dist-packages (from comet-ml->kadal==1.0.2) (2.23.0)\n",
            "Collecting netifaces>=0.10.7\n",
            "  Downloading https://files.pythonhosted.org/packages/0c/9b/c4c7eb09189548d45939a3d3a6b3d53979c67d124459b27a094c365c347f/netifaces-0.10.9-cp36-cp36m-manylinux1_x86_64.whl\n",
            "Requirement already satisfied: cycler>=0.10 in /usr/local/lib/python3.6/dist-packages (from matplotlib->kadal==1.0.2) (0.10.0)\n",
            "Requirement already satisfied: python-dateutil>=2.1 in /usr/local/lib/python3.6/dist-packages (from matplotlib->kadal==1.0.2) (2.8.1)\n",
            "Requirement already satisfied: kiwisolver>=1.0.1 in /usr/local/lib/python3.6/dist-packages (from matplotlib->kadal==1.0.2) (1.2.0)\n",
            "Requirement already satisfied: pyparsing!=2.0.4,!=2.1.2,!=2.1.6,>=2.0.1 in /usr/local/lib/python3.6/dist-packages (from matplotlib->kadal==1.0.2) (2.4.7)\n",
            "Collecting configobj; extra == \"ini\"\n",
            "  Downloading https://files.pythonhosted.org/packages/64/61/079eb60459c44929e684fa7d9e2fdca403f67d64dd9dbac27296be2e0fab/configobj-5.0.6.tar.gz\n",
            "Requirement already satisfied: certifi in /usr/local/lib/python3.6/dist-packages (from comet-git-pure>=0.19.11->comet-ml->kadal==1.0.2) (2020.4.5.1)\n",
            "Requirement already satisfied: urllib3>=1.24.1 in /usr/local/lib/python3.6/dist-packages (from comet-git-pure>=0.19.11->comet-ml->kadal==1.0.2) (1.24.3)\n",
            "Requirement already satisfied: idna<3,>=2.5 in /usr/local/lib/python3.6/dist-packages (from requests>=2.18.4->comet-ml->kadal==1.0.2) (2.9)\n",
            "Requirement already satisfied: chardet<4,>=3.0.2 in /usr/local/lib/python3.6/dist-packages (from requests>=2.18.4->comet-ml->kadal==1.0.2) (3.0.4)\n",
            "Building wheels for collected packages: kadal, configobj\n",
            "  Building wheel for kadal (setup.py) ... \u001b[?25l\u001b[?25hdone\n",
            "  Created wheel for kadal: filename=kadal-1.0.2-cp36-none-any.whl size=75651 sha256=2a1a92e6464902c752f0870d68eab78a6aedca508f5f3a284e98a68699cb1fdd\n",
            "  Stored in directory: /tmp/pip-ephem-wheel-cache-l5jpb3d2/wheels/3c/fd/38/70e82ea24ca6ec25615628dafcc6174b1ba9f859aa5e3f237b\n",
            "  Building wheel for configobj (setup.py) ... \u001b[?25l\u001b[?25hdone\n",
            "  Created wheel for configobj: filename=configobj-5.0.6-cp36-none-any.whl size=34546 sha256=475843eb2e322fd3878487d7882fe9fe5dcd7c565fadf5957d91f67e6f66644f\n",
            "  Stored in directory: /root/.cache/pip/wheels/f1/e4/16/4981ca97c2d65106b49861e0b35e2660695be7219a2d351ee0\n",
            "Successfully built kadal configobj\n",
            "\u001b[31mERROR: chainer 6.5.0 has requirement typing-extensions<=3.6.6, but you'll have typing-extensions 3.7.4.2 which is incompatible.\u001b[0m\n",
            "Installing collected packages: wurlitzer, websocket-client, configobj, everett, typing-extensions, comet-git-pure, netifaces, comet-ml, sobolsampling, kadal\n",
            "  Found existing installation: typing-extensions 3.6.6\n",
            "    Uninstalling typing-extensions-3.6.6:\n",
            "      Successfully uninstalled typing-extensions-3.6.6\n",
            "Successfully installed comet-git-pure-0.19.16 comet-ml-3.1.6 configobj-5.0.6 everett-1.0.2 kadal-1.0.2 netifaces-0.10.9 sobolsampling-0.1.2 typing-extensions-3.7.4.2 websocket-client-0.57.0 wurlitzer-2.0.0\n"
          ],
          "name": "stdout"
        }
      ]
    },
    {
      "cell_type": "code",
      "metadata": {
        "id": "Ho85msqSpPEg",
        "colab_type": "code",
        "outputId": "da0aa198-7b74-472a-cb60-a6231839e2c5",
        "colab": {
          "base_uri": "https://localhost:8080/",
          "height": 138
        }
      },
      "source": [
        "# Apparently because the error, cma is not installed.\n",
        "!pip install cma"
      ],
      "execution_count": 0,
      "outputs": [
        {
          "output_type": "stream",
          "text": [
            "Collecting cma\n",
            "\u001b[?25l  Downloading https://files.pythonhosted.org/packages/36/c0/0a1c41f7cad0a51e07991cf86423d0e6651d035f1fe7dcff48e8858848f2/cma-3.0.3-py2.py3-none-any.whl (230kB)\n",
            "\r\u001b[K     |█▍                              | 10kB 13.4MB/s eta 0:00:01\r\u001b[K     |██▉                             | 20kB 1.9MB/s eta 0:00:01\r\u001b[K     |████▎                           | 30kB 2.2MB/s eta 0:00:01\r\u001b[K     |█████▊                          | 40kB 1.7MB/s eta 0:00:01\r\u001b[K     |███████▏                        | 51kB 1.9MB/s eta 0:00:01\r\u001b[K     |████████▌                       | 61kB 2.3MB/s eta 0:00:01\r\u001b[K     |██████████                      | 71kB 2.4MB/s eta 0:00:01\r\u001b[K     |███████████▍                    | 81kB 2.5MB/s eta 0:00:01\r\u001b[K     |████████████▉                   | 92kB 2.8MB/s eta 0:00:01\r\u001b[K     |██████████████▎                 | 102kB 2.9MB/s eta 0:00:01\r\u001b[K     |███████████████▋                | 112kB 2.9MB/s eta 0:00:01\r\u001b[K     |█████████████████               | 122kB 2.9MB/s eta 0:00:01\r\u001b[K     |██████████████████▌             | 133kB 2.9MB/s eta 0:00:01\r\u001b[K     |████████████████████            | 143kB 2.9MB/s eta 0:00:01\r\u001b[K     |█████████████████████▍          | 153kB 2.9MB/s eta 0:00:01\r\u001b[K     |██████████████████████▊         | 163kB 2.9MB/s eta 0:00:01\r\u001b[K     |████████████████████████▏       | 174kB 2.9MB/s eta 0:00:01\r\u001b[K     |█████████████████████████▋      | 184kB 2.9MB/s eta 0:00:01\r\u001b[K     |███████████████████████████     | 194kB 2.9MB/s eta 0:00:01\r\u001b[K     |████████████████████████████▌   | 204kB 2.9MB/s eta 0:00:01\r\u001b[K     |█████████████████████████████▉  | 215kB 2.9MB/s eta 0:00:01\r\u001b[K     |███████████████████████████████▎| 225kB 2.9MB/s eta 0:00:01\r\u001b[K     |████████████████████████████████| 235kB 2.9MB/s \n",
            "\u001b[?25hRequirement already satisfied: numpy in /usr/local/lib/python3.6/dist-packages (from cma) (1.18.3)\n",
            "Installing collected packages: cma\n",
            "Successfully installed cma-3.0.3\n"
          ],
          "name": "stdout"
        }
      ]
    },
    {
      "cell_type": "markdown",
      "metadata": {
        "id": "plTShmlqoW4N",
        "colab_type": "text"
      },
      "source": [
        "### Import from kadal"
      ]
    },
    {
      "cell_type": "code",
      "metadata": {
        "id": "wqjX0colnp05",
        "colab_type": "code",
        "colab": {}
      },
      "source": [
        "from kadal.surrogate_models.kriging_model import Kriging\n",
        "from kadal.misc.sampling.samplingplan import sampling\n",
        "from kadal.testcase.analyticalfcn.cases import evaluate\n",
        "from kadal.surrogate_models.supports.initinfo import initkriginfo\n",
        "from kadal.surrogate_models.supports.errperf import errperf\n",
        "from matplotlib import cm\n",
        "import numpy as np\n",
        "import matplotlib.pyplot as plt\n",
        "from mpl_toolkits.mplot3d import Axes3D\n",
        "import time\n",
        "%matplotlib inline"
      ],
      "execution_count": 0,
      "outputs": []
    },
    {
      "cell_type": "markdown",
      "metadata": {
        "id": "yaUSFEH6o6ne",
        "colab_type": "text"
      },
      "source": [
        "### Create Kriging Function\n",
        "Now, let's create a function that handle Kriging training process. In this demo we will use Styblinski-Tang fucntion with 40 samples as a test case."
      ]
    },
    {
      "cell_type": "code",
      "metadata": {
        "id": "PR5lMv8gp5JE",
        "colab_type": "code",
        "colab": {}
      },
      "source": [
        "def construct_krig():\n",
        "    nsample = 50\n",
        "    nvar = 2\n",
        "    ub = np.array([5, 5])  # Define upper bound for the problem\n",
        "    lb = np.array([-5, -5])  # Define lower bound for the problem\n",
        "\n",
        "    # Now generate the sample points using \"sampling\" function\n",
        "    # In this case we use Halton sampling\n",
        "    # We also want to return \"real\" value of the sampling point, instead of\n",
        "    # the normalized samples, hence we include result = 'real in the argument \n",
        "    samplenorm, X = sampling(\"halton\", nvar, nsample, result='real',\n",
        "                                  upbound=ub, lobound=lb)\n",
        "    \n",
        "    # Then, the samples are evaluated. In this case we use the built-in test \n",
        "    # case in KADAL.\n",
        "    y = evaluate(X, 'styblinski')\n",
        "\n",
        "    # Kriging in KADAL use a dictionary as its main information container\n",
        "    # To initialize the dictionary:\n",
        "    KrigInfo = initkriginfo()\n",
        "    # Set KrigInfo\n",
        "    KrigInfo['X'] = X  # KrigInfo['X'] and ['y'] is mandatory\n",
        "    KrigInfo['y'] = y  \n",
        "    KrigInfo['nrestart'] = 5  # Set the number of restarting points for hyperparameter optimization\n",
        "    KrigInfo['ub'] = ub  # Set the upper bound of the problem, if empty maximum value of the sample is taken\n",
        "    KrigInfo['lb'] = lb  # Same with ub\n",
        "    KrigInfo[\"kernel\"] = [\"gaussian\"]  # We support multi-kernel, e.g [\"gaussian\", \"matern32\"]\n",
        "    KrigInfo[\"optimizer\"] = \"lbfgsb\" # Use L-BFGS-B as the hyperparam optimizer\n",
        "\n",
        "    # Construct Kriging\n",
        "    t = time.time()\n",
        "    # Now, initialize the Kriging object. Set the sample standardization into True\n",
        "    # But, we don't want to normalize the response (normy = False)\n",
        "    # We also don't want to train the Kriging variance ('trainvar = False')\n",
        "    krigobj = Kriging(KrigInfo, standardization=True)\n",
        "    # Train Kriging\n",
        "    krigobj.train()\n",
        "    # Calculate the leave-one-out cross validation (optional)\n",
        "    loocverr,_ = krigobj.loocvcalc(metrictype='rmse')\n",
        "    elapsed = time.time() - t\n",
        "    print(\"elapsed time for train Kriging model: \", elapsed, \"s\")\n",
        "    print(\"LOOCV error of Kriging model: \", loocverr, \"%\")\n",
        "\n",
        "    return krigobj\n"
      ],
      "execution_count": 0,
      "outputs": []
    },
    {
      "cell_type": "markdown",
      "metadata": {
        "id": "eWPnmNYGxSAO",
        "colab_type": "text"
      },
      "source": [
        "### Create Predictor Function\n",
        "\n",
        "Because we aim to construct a surface plot, most of the function is for plotting"
      ]
    },
    {
      "cell_type": "code",
      "metadata": {
        "id": "dS0nrB0FwvA6",
        "colab_type": "code",
        "colab": {}
      },
      "source": [
        "def predictkrig(krigobj):\n",
        "    neval = 10000  # Number of evaluation points\n",
        "\n",
        "    # Create a linspace from -5 to 5\n",
        "    xx = np.linspace(-5, 5, 100)\n",
        "    yy = np.linspace(-5, 5, 100)\n",
        "    # Create meshgrid from linspace\n",
        "    Xevalx, Xevaly = np.meshgrid(xx, yy)\n",
        "    # Reshape meshgrid to be feeded into Kriging predictor\n",
        "    Xeval = np.zeros(shape=[neval, 2])\n",
        "    Xeval[:, 0] = np.reshape(Xevalx, (neval))\n",
        "    Xeval[:, 1] = np.reshape(Xevaly, (neval))\n",
        "\n",
        "    # Predict the evaluation points\n",
        "    yeval = krigobj.predict(Xeval,['pred'])  # For predicting uncertainty use ['pred','SSqr']\n",
        "    # Calculate the real value of evaluation points\n",
        "    yact = evaluate(Xeval, 'styblinski')\n",
        "\n",
        "    # Evaluate the prediction error\n",
        "    print('RMSE = ', errperf(yact, yeval, type='rmse'))\n",
        "    print('MARE = ', errperf(yact, yeval, type='mare'))\n",
        "\n",
        "    # Plot the result\n",
        "    yeval1 = np.reshape(yeval, (100, 100))\n",
        "    fig = plt.figure()\n",
        "    ax = fig.gca(projection='3d')\n",
        "    surf = ax.plot_surface(xx, yy, yeval1, cmap=cm.coolwarm, linewidth=0, antialiased=False)"
      ],
      "execution_count": 0,
      "outputs": []
    },
    {
      "cell_type": "markdown",
      "metadata": {
        "id": "LFT15_GP04lS",
        "colab_type": "text"
      },
      "source": [
        "## Run"
      ]
    },
    {
      "cell_type": "code",
      "metadata": {
        "id": "HFHFng-y03pr",
        "colab_type": "code",
        "outputId": "bae7a2d3-e7ed-49ce-e420-54c3cbfd48f2",
        "colab": {
          "base_uri": "https://localhost:8080/",
          "height": 483
        }
      },
      "source": [
        "krigingobj1 = construct_krig()\n",
        "predictkrig(krigingobj1)"
      ],
      "execution_count": 0,
      "outputs": [
        {
          "output_type": "stream",
          "text": [
            "Begin train hyperparam.\n",
            "Training 5 hyperparameter(s)\n",
            "Training hyperparameter candidate no.1\n",
            "Training hyperparameter candidate no.2\n",
            "Training hyperparameter candidate no.3\n",
            "Training hyperparameter candidate no.4\n",
            "Training hyperparameter candidate no.5\n",
            "Single Objective, train hyperparam, end.\n",
            "Best hyperparameter is [-0.06768278 -0.06558988]\n",
            "With NegLnLikelihood of 121.47648552358743\n",
            "elapsed time for train Kriging model:  0.689805269241333 s\n",
            "LOOCV error of Kriging model:  4.379695408530209 %\n",
            "RMSE =  4.298317119160842\n",
            "MARE =  0.0839388665050117\n"
          ],
          "name": "stdout"
        },
        {
          "output_type": "display_data",
          "data": {
            "image/png": "[encoded data removed]",
            "text/plain": [
              "<Figure size 432x288 with 1 Axes>"
            ]
          },
          "metadata": {
            "tags": [],
            "needs_background": "light"
          }
        }
      ]
    },
    {
      "cell_type": "code",
      "metadata": {
        "id": "A2DEii870_Qt",
        "colab_type": "code",
        "colab": {}
      },
      "source": [
        ""
      ],
      "execution_count": 0,
      "outputs": []
    }
  ]
}