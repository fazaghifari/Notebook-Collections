{
  "nbformat": 4,
  "nbformat_minor": 0,
  "metadata": {
    "colab": {
      "name": "Single Objective Bayesian Optimization.ipynb",
      "provenance": [],
      "collapsed_sections": [],
      "authorship_tag": "ABX9TyMqCWqtgFttCvDz2gsTKN2k",
      "include_colab_link": true
    },
    "kernelspec": {
      "name": "python3",
      "display_name": "Python 3"
    }
  },
  "cells": [
    {
      "cell_type": "markdown",
      "metadata": {
        "id": "view-in-github",
        "colab_type": "text"
      },
      "source": [
        "<a href=\"https://colab.research.google.com/github/fazaghifari/Notebook-Collections/blob/master/GP_and_BayesianOpt/Single_Objective_Bayesian_Optimization.ipynb\" target=\"_parent\"><img src=\"https://colab.research.google.com/assets/colab-badge.svg\" alt=\"Open In Colab\"/></a>"
      ]
    },
    {
      "cell_type": "markdown",
      "metadata": {
        "id": "7B5ejkac4uGm",
        "colab_type": "text"
      },
      "source": [
        "# Single Objective Bayesian Optimization\n",
        "\n",
        "In this notebook we address a surrogate-assisted single objective bayesian optimization (SOBO) problem with Gaussian Process/Kriging as the surrogate model. In this tutorial, we will try to minimize Styblinski-Tang function. KADAL will be used as the main framework."
      ]
    },
    {
      "cell_type": "markdown",
      "metadata": {
        "id": "L-VZON247jOk",
        "colab_type": "text"
      },
      "source": [
        "First, let's install the packages."
      ]
    },
    {
      "cell_type": "code",
      "metadata": {
        "id": "mx7fSs424smQ",
        "colab_type": "code",
        "outputId": "fc8e6d9f-bc97-4314-c42c-97ce80447ee7",
        "colab": {
          "base_uri": "https://localhost:8080/",
          "height": 1000
        }
      },
      "source": [
        "!pip install git+https://github.com/flowdiagnosticsitb/KADAL.git\n",
        "!pip install cma"
      ],
      "execution_count": 0,
      "outputs": [
        {
          "output_type": "stream",
          "text": [
            "Collecting git+https://github.com/flowdiagnosticsitb/KADAL.git\n",
            "  Cloning https://github.com/flowdiagnosticsitb/KADAL.git to /tmp/pip-req-build-49ul8efb\n",
            "  Running command git clone -q https://github.com/flowdiagnosticsitb/KADAL.git /tmp/pip-req-build-49ul8efb\n",
            "Requirement already satisfied: numpy in /usr/local/lib/python3.6/dist-packages (from kadal==1.0.2) (1.18.3)\n",
            "Requirement already satisfied: scipy in /usr/local/lib/python3.6/dist-packages (from kadal==1.0.2) (1.4.1)\n",
            "Requirement already satisfied: scikit-learn in /usr/local/lib/python3.6/dist-packages (from kadal==1.0.2) (0.22.2.post1)\n",
            "Collecting comet-ml\n",
            "\u001b[?25l  Downloading https://files.pythonhosted.org/packages/29/e0/d6aa47fbbec4313a7e7c7752ed74667f28188482acdc0beb18a46cc7d584/comet_ml-3.1.6-py2.py3-none-any.whl (196kB)\n",
            "\u001b[K     |████████████████████████████████| 204kB 2.7MB/s \n",
            "\u001b[?25hRequirement already satisfied: matplotlib in /usr/local/lib/python3.6/dist-packages (from kadal==1.0.2) (3.2.1)\n",
            "Collecting sobolsampling\n",
            "\u001b[?25l  Downloading https://files.pythonhosted.org/packages/88/0c/a0d39eda51eeb3a08afe1ff838be94c0c7b1156623ac78daf6edd058575e/sobolsampling-0.1.2-py3-none-any.whl (678kB)\n",
            "\u001b[K     |████████████████████████████████| 686kB 46.9MB/s \n",
            "\u001b[?25hRequirement already satisfied: joblib>=0.11 in /usr/local/lib/python3.6/dist-packages (from scikit-learn->kadal==1.0.2) (0.14.1)\n",
            "Collecting comet-git-pure>=0.19.11\n",
            "\u001b[?25l  Downloading https://files.pythonhosted.org/packages/72/7a/483413046e48908986a0f9a1d8a917e1da46ae58e6ba16b2ac71b3adf8d7/comet_git_pure-0.19.16-py3-none-any.whl (409kB)\n",
            "\u001b[K     |████████████████████████████████| 419kB 50.3MB/s \n",
            "\u001b[?25hCollecting typing-extensions>=3.7.4\n",
            "  Downloading https://files.pythonhosted.org/packages/0c/0e/3f026d0645d699e7320b59952146d56ad7c374e9cd72cd16e7c74e657a0f/typing_extensions-3.7.4.2-py3-none-any.whl\n",
            "Requirement already satisfied: jsonschema<3.1.0,>=2.6.0 in /usr/local/lib/python3.6/dist-packages (from comet-ml->kadal==1.0.2) (2.6.0)\n",
            "Requirement already satisfied: nvidia-ml-py3>=7.352.0 in /usr/local/lib/python3.6/dist-packages (from comet-ml->kadal==1.0.2) (7.352.0)\n",
            "Collecting everett[ini]>=1.0.1; python_version >= \"3.0\"\n",
            "  Downloading https://files.pythonhosted.org/packages/12/34/de70a3d913411e40ce84966f085b5da0c6df741e28c86721114dd290aaa0/everett-1.0.2-py2.py3-none-any.whl\n",
            "Collecting websocket-client>=0.55.0\n",
            "\u001b[?25l  Downloading https://files.pythonhosted.org/packages/4c/5f/f61b420143ed1c8dc69f9eaec5ff1ac36109d52c80de49d66e0c36c3dfdf/websocket_client-0.57.0-py2.py3-none-any.whl (200kB)\n",
            "\u001b[K     |████████████████████████████████| 204kB 49.3MB/s \n",
            "\u001b[?25hRequirement already satisfied: requests>=2.18.4 in /usr/local/lib/python3.6/dist-packages (from comet-ml->kadal==1.0.2) (2.23.0)\n",
            "Collecting netifaces>=0.10.7\n",
            "  Downloading https://files.pythonhosted.org/packages/0c/9b/c4c7eb09189548d45939a3d3a6b3d53979c67d124459b27a094c365c347f/netifaces-0.10.9-cp36-cp36m-manylinux1_x86_64.whl\n",
            "Requirement already satisfied: six in /usr/local/lib/python3.6/dist-packages (from comet-ml->kadal==1.0.2) (1.12.0)\n",
            "Collecting wurlitzer>=1.0.2\n",
            "  Downloading https://files.pythonhosted.org/packages/24/5e/f3bd8443bfdf96d2f5d10097d301076a9eb55637b7864e52d2d1a4d8c72a/wurlitzer-2.0.0-py2.py3-none-any.whl\n",
            "Requirement already satisfied: cycler>=0.10 in /usr/local/lib/python3.6/dist-packages (from matplotlib->kadal==1.0.2) (0.10.0)\n",
            "Requirement already satisfied: python-dateutil>=2.1 in /usr/local/lib/python3.6/dist-packages (from matplotlib->kadal==1.0.2) (2.8.1)\n",
            "Requirement already satisfied: pyparsing!=2.0.4,!=2.1.2,!=2.1.6,>=2.0.1 in /usr/local/lib/python3.6/dist-packages (from matplotlib->kadal==1.0.2) (2.4.7)\n",
            "Requirement already satisfied: kiwisolver>=1.0.1 in /usr/local/lib/python3.6/dist-packages (from matplotlib->kadal==1.0.2) (1.2.0)\n",
            "Requirement already satisfied: urllib3>=1.24.1 in /usr/local/lib/python3.6/dist-packages (from comet-git-pure>=0.19.11->comet-ml->kadal==1.0.2) (1.24.3)\n",
            "Requirement already satisfied: certifi in /usr/local/lib/python3.6/dist-packages (from comet-git-pure>=0.19.11->comet-ml->kadal==1.0.2) (2020.4.5.1)\n",
            "Collecting configobj; extra == \"ini\"\n",
            "  Downloading https://files.pythonhosted.org/packages/64/61/079eb60459c44929e684fa7d9e2fdca403f67d64dd9dbac27296be2e0fab/configobj-5.0.6.tar.gz\n",
            "Requirement already satisfied: chardet<4,>=3.0.2 in /usr/local/lib/python3.6/dist-packages (from requests>=2.18.4->comet-ml->kadal==1.0.2) (3.0.4)\n",
            "Requirement already satisfied: idna<3,>=2.5 in /usr/local/lib/python3.6/dist-packages (from requests>=2.18.4->comet-ml->kadal==1.0.2) (2.9)\n",
            "Building wheels for collected packages: kadal, configobj\n",
            "  Building wheel for kadal (setup.py) ... \u001b[?25l\u001b[?25hdone\n",
            "  Created wheel for kadal: filename=kadal-1.0.2-cp36-none-any.whl size=75807 sha256=fa7037b7bffa2f5bc7828aad0796f926e386dffba644a3e9867da01de1833246\n",
            "  Stored in directory: /tmp/pip-ephem-wheel-cache-x0z4j4q0/wheels/3c/fd/38/70e82ea24ca6ec25615628dafcc6174b1ba9f859aa5e3f237b\n",
            "  Building wheel for configobj (setup.py) ... \u001b[?25l\u001b[?25hdone\n",
            "  Created wheel for configobj: filename=configobj-5.0.6-cp36-none-any.whl size=34546 sha256=f90eaedabfc458e6fcc4ca10c8451e3a1a4b0c7245a6c612f625f0984659552f\n",
            "  Stored in directory: /root/.cache/pip/wheels/f1/e4/16/4981ca97c2d65106b49861e0b35e2660695be7219a2d351ee0\n",
            "Successfully built kadal configobj\n",
            "\u001b[31mERROR: chainer 6.5.0 has requirement typing-extensions<=3.6.6, but you'll have typing-extensions 3.7.4.2 which is incompatible.\u001b[0m\n",
            "Installing collected packages: comet-git-pure, typing-extensions, configobj, everett, websocket-client, netifaces, wurlitzer, comet-ml, sobolsampling, kadal\n",
            "  Found existing installation: typing-extensions 3.6.6\n",
            "    Uninstalling typing-extensions-3.6.6:\n",
            "      Successfully uninstalled typing-extensions-3.6.6\n",
            "Successfully installed comet-git-pure-0.19.16 comet-ml-3.1.6 configobj-5.0.6 everett-1.0.2 kadal-1.0.2 netifaces-0.10.9 sobolsampling-0.1.2 typing-extensions-3.7.4.2 websocket-client-0.57.0 wurlitzer-2.0.0\n",
            "Collecting cma\n",
            "\u001b[?25l  Downloading https://files.pythonhosted.org/packages/36/c0/0a1c41f7cad0a51e07991cf86423d0e6651d035f1fe7dcff48e8858848f2/cma-3.0.3-py2.py3-none-any.whl (230kB)\n",
            "\u001b[K     |████████████████████████████████| 235kB 2.8MB/s \n",
            "\u001b[?25hRequirement already satisfied: numpy in /usr/local/lib/python3.6/dist-packages (from cma) (1.18.3)\n",
            "Installing collected packages: cma\n",
            "Successfully installed cma-3.0.3\n"
          ],
          "name": "stdout"
        }
      ]
    },
    {
      "cell_type": "markdown",
      "metadata": {
        "id": "cjNSeh_C8Nl9",
        "colab_type": "text"
      },
      "source": [
        "## Import KADAL"
      ]
    },
    {
      "cell_type": "code",
      "metadata": {
        "id": "yI24pv0s7yo7",
        "colab_type": "code",
        "colab": {}
      },
      "source": [
        "import numpy as np\n",
        "from kadal.testcase.analyticalfcn.cases import evaluate\n",
        "from kadal.surrogate_models.kriging_model import Kriging\n",
        "from kadal.surrogate_models.supports.initinfo import initkriginfo\n",
        "from kadal.misc.sampling.samplingplan import sampling\n",
        "from kadal.optim_tools.SOBO import SOBO\n",
        "import time"
      ],
      "execution_count": 0,
      "outputs": []
    },
    {
      "cell_type": "markdown",
      "metadata": {
        "id": "sPO71TEr97Oy",
        "colab_type": "text"
      },
      "source": [
        "### Create Kriging Function\n",
        "Now, let's create a function that handle Kriging training process. In this demo we will use Styblinski-Tang fucntion with 40 samples as a test case."
      ]
    },
    {
      "cell_type": "code",
      "metadata": {
        "id": "AB4qH8Jo9-tu",
        "colab_type": "code",
        "colab": {}
      },
      "source": [
        "def construct_krig():\n",
        "    nsample = 10\n",
        "    nvar = 2\n",
        "    ub = np.array([5, 5])  # Define upper bound for the problem\n",
        "    lb = np.array([-5, -5])  # Define lower bound for the problem\n",
        "\n",
        "    # Now generate the sample points using \"sampling\" function\n",
        "    # In this case we use Halton sampling\n",
        "    # We also want to return \"real\" value of the sampling point, instead of\n",
        "    # the normalized samples, hence we include result = 'real in the argument \n",
        "    samplenorm, X = sampling(\"halton\", nvar, nsample, result='real',\n",
        "                                  upbound=ub, lobound=lb)\n",
        "    \n",
        "    # Then, the samples are evaluated. In this case we use the built-in test \n",
        "    # case in KADAL.\n",
        "    y = evaluate(X, 'styblinski')\n",
        "\n",
        "    # Kriging in KADAL use a dictionary as its main information container\n",
        "    # To initialize the dictionary:\n",
        "    KrigInfo = initkriginfo()\n",
        "    # Set KrigInfo\n",
        "    KrigInfo['X'] = X  # KrigInfo['X'] and ['y'] is mandatory\n",
        "    KrigInfo['y'] = y  \n",
        "    KrigInfo['nrestart'] = 5  # Set the number of restarting points for hyperparameter optimization\n",
        "    KrigInfo['ub'] = ub  # Set the upper bound of the problem, if empty maximum value of the sample is taken\n",
        "    KrigInfo['lb'] = lb  # Same with ub\n",
        "    KrigInfo[\"kernel\"] = [\"gaussian\"]  # We support multi-kernel, e.g [\"gaussian\", \"matern32\"]\n",
        "    KrigInfo[\"optimizer\"] = \"lbfgsb\" # Use L-BFGS-B as the hyperparam optimizer\n",
        "    KrigInfo[\"problem\"] = \"styblinski\"  # Define the function problem, to be evaluated in the SOBO subroutine\n",
        "\n",
        "    # Construct Kriging\n",
        "    t = time.time()\n",
        "    # Now, initialize the Kriging object. Set the sample standardization into True\n",
        "    # But, we don't want to normalize the response (normy = False)\n",
        "    # We also don't want to train the Kriging variance ('trainvar = False')\n",
        "    krigobj = Kriging(KrigInfo, standardization=True)\n",
        "    # Train Kriging\n",
        "    krigobj.train()\n",
        "    # Calculate the leave-one-out cross validation (optional)\n",
        "    loocverr,_ = krigobj.loocvcalc(metrictype='rmse')\n",
        "    elapsed = time.time() - t\n",
        "    print(\"elapsed time for train Kriging model: \", elapsed, \"s\")\n",
        "    print(\"LOOCV error of Kriging model: \", loocverr, \"%\")\n",
        "\n",
        "    return krigobj\n"
      ],
      "execution_count": 0,
      "outputs": []
    },
    {
      "cell_type": "markdown",
      "metadata": {
        "id": "c69NrYmt-KCe",
        "colab_type": "text"
      },
      "source": [
        "### Create optimizer function handler"
      ]
    },
    {
      "cell_type": "code",
      "metadata": {
        "id": "kyevvWgI-yxP",
        "colab_type": "code",
        "colab": {}
      },
      "source": [
        "def runopt(krigobj):\n",
        "    # Similar with Kriging, SOBO take dictionary as its input\n",
        "    soboInfo = dict()\n",
        "    soboInfo['nup'] = 50  # Set maximum number of update\n",
        "    soboInfo['stalliteration'] = 10  # Set stall number (if the minimum value is still the same after n times, the optimizer stop)\n",
        "    soboInfo['nrestart'] = 3  # Number of restarting point for optimizer\n",
        "    soboInfo['acquifunc'] = 'EI'  # Set acquisition function to Expected Improvement (EI)\n",
        "    soboInfo['acquifuncopt'] = 'diff_evo'  # Set acquisition function optimizer to differential evolution\n",
        "\n",
        "    # Initialize SOBO object. Set autoupdate to true, to make the program automatically evaluate the problem\n",
        "    optim = SOBO(soboInfo,krigobj,autoupdate=True)\n",
        "    x_optim,y_optim = optim.run()\n",
        "    return x_optim,y_optim"
      ],
      "execution_count": 0,
      "outputs": []
    },
    {
      "cell_type": "markdown",
      "metadata": {
        "id": "s5-sROfUAhiq",
        "colab_type": "text"
      },
      "source": [
        "## Run"
      ]
    },
    {
      "cell_type": "code",
      "metadata": {
        "id": "b6l7t_DNApc8",
        "colab_type": "code",
        "outputId": "e1f125c3-87b1-499d-8d10-cdcb2040a001",
        "colab": {
          "base_uri": "https://localhost:8080/",
          "height": 941
        }
      },
      "source": [
        "kriging_model = construct_krig()\n",
        "X_optimum, y_optimum = runopt(kriging_model)"
      ],
      "execution_count": 0,
      "outputs": [
        {
          "output_type": "stream",
          "text": [
            "Begin train hyperparam.\n",
            "Training 5 hyperparameter(s)\n",
            "Training hyperparameter candidate no.1\n",
            "Training hyperparameter candidate no.2\n",
            "Training hyperparameter candidate no.3\n",
            "Training hyperparameter candidate no.4\n",
            "Training hyperparameter candidate no.5\n",
            "Single Objective, train hyperparam, end.\n",
            "Best hyperparameter is [-1.25 -1.25]\n",
            "With NegLnLikelihood of 42.76734625432907\n",
            "elapsed time for train Kriging model:  0.2396831512451172 s\n",
            "LOOCV error of Kriging model:  80.00548066291594 %\n",
            "The number of stall iteration is specified to  10  by user\n",
            "The number of restart for acquisition function optimization is specified to  3  by user\n",
            "The file name for saving the results is not specified, set the name to temporarydata.mat\n",
            "Begin single-objective Bayesian optimization process.\n",
            "Update no.: 1, F-count: 10, Best f(x): -53.30842734291648, Stall counter: 0\n",
            "Update no.: 2, F-count: 10, Best f(x): [-53.30842734], Stall counter: 1\n",
            "Update no.: 3, F-count: 10, Best f(x): [-56.96118495], Stall counter: 0\n",
            "Update no.: 4, F-count: 10, Best f(x): [-56.96118495], Stall counter: 1\n",
            "Update no.: 5, F-count: 10, Best f(x): [-56.96118495], Stall counter: 2\n",
            "Update no.: 6, F-count: 10, Best f(x): [-56.96118495], Stall counter: 3\n",
            "Update no.: 7, F-count: 10, Best f(x): [-56.96118495], Stall counter: 4\n",
            "Update no.: 8, F-count: 10, Best f(x): [-56.96118495], Stall counter: 5\n",
            "Update no.: 9, F-count: 10, Best f(x): [-56.96118495], Stall counter: 6\n",
            "Update no.: 10, F-count: 10, Best f(x): [-57.69625442], Stall counter: 0\n",
            "Update no.: 11, F-count: 10, Best f(x): [-58.5393476], Stall counter: 0\n",
            "Update no.: 12, F-count: 10, Best f(x): [-58.5393476], Stall counter: 1\n",
            "Update no.: 13, F-count: 10, Best f(x): [-73.24168473], Stall counter: 0\n",
            "Update no.: 14, F-count: 10, Best f(x): [-73.24168473], Stall counter: 1\n",
            "Update no.: 15, F-count: 10, Best f(x): [-73.24168473], Stall counter: 2\n",
            "Update no.: 16, F-count: 10, Best f(x): [-76.04183766], Stall counter: 0\n",
            "Update no.: 17, F-count: 10, Best f(x): [-77.56614145], Stall counter: 0\n",
            "Update no.: 18, F-count: 10, Best f(x): [-77.56614145], Stall counter: 1\n",
            "Update no.: 19, F-count: 10, Best f(x): [-77.56614145], Stall counter: 2\n",
            "Update no.: 20, F-count: 10, Best f(x): [-77.56614145], Stall counter: 3\n",
            "Update no.: 21, F-count: 10, Best f(x): [-77.56614145], Stall counter: 4\n",
            "Update no.: 22, F-count: 10, Best f(x): [-78.23776398], Stall counter: 0\n",
            "Update no.: 23, F-count: 10, Best f(x): [-78.23776398], Stall counter: 1\n",
            "Update no.: 24, F-count: 10, Best f(x): [-78.23776398], Stall counter: 2\n",
            "Update no.: 25, F-count: 10, Best f(x): [-78.3266581], Stall counter: 0\n",
            "Update no.: 26, F-count: 10, Best f(x): [-78.3266581], Stall counter: 1\n",
            "Update no.: 27, F-count: 10, Best f(x): [-78.3266581], Stall counter: 2\n",
            "Update no.: 28, F-count: 10, Best f(x): [-78.3266581], Stall counter: 3\n",
            "Update no.: 29, F-count: 10, Best f(x): [-78.33207079], Stall counter: 0\n",
            "Update no.: 30, F-count: 10, Best f(x): [-78.33207079], Stall counter: 1\n",
            "Update no.: 31, F-count: 10, Best f(x): [-78.33207079], Stall counter: 2\n",
            "Update no.: 32, F-count: 10, Best f(x): [-78.33207079], Stall counter: 3\n",
            "Update no.: 33, F-count: 10, Best f(x): [-78.33207079], Stall counter: 4\n",
            "Update no.: 34, F-count: 10, Best f(x): [-78.33207079], Stall counter: 5\n",
            "Update no.: 35, F-count: 10, Best f(x): [-78.33207079], Stall counter: 6\n",
            "Update no.: 36, F-count: 10, Best f(x): [-78.33207079], Stall counter: 7\n",
            "Update no.: 37, F-count: 10, Best f(x): [-78.33207079], Stall counter: 8\n",
            "Update no.: 38, F-count: 10, Best f(x): [-78.33207079], Stall counter: 9\n",
            "Optimization finished, now creating the final outputs.\n"
          ],
          "name": "stdout"
        }
      ]
    },
    {
      "cell_type": "code",
      "metadata": {
        "id": "6GSU7-ZHA_Xv",
        "colab_type": "code",
        "outputId": "7c7c0fe5-76e7-46eb-978b-2e5c89c5fa1b",
        "colab": {
          "base_uri": "https://localhost:8080/",
          "height": 34
        }
      },
      "source": [
        "print(\"Aprrox. optimum value is: \",y_optimum,\" at X= \", X_optimum)"
      ],
      "execution_count": 0,
      "outputs": [
        {
          "output_type": "stream",
          "text": [
            "Aprrox. optimum value is:  -78.33207079449447  at X=  [-2.90117521 -2.9066166 ]\n"
          ],
          "name": "stdout"
        }
      ]
    },
    {
      "cell_type": "markdown",
      "metadata": {
        "id": "v3oVmJo5C-uf",
        "colab_type": "text"
      },
      "source": [
        "Real optimum value for 2D Styblinski-Tang should be -78.332 at X = [-2.903534, -2.903534]"
      ]
    },
    {
      "cell_type": "code",
      "metadata": {
        "id": "VaJxQdygDLia",
        "colab_type": "code",
        "colab": {}
      },
      "source": [
        ""
      ],
      "execution_count": 0,
      "outputs": []
    }
  ]
}