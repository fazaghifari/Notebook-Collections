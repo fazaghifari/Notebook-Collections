{
  "nbformat": 4,
  "nbformat_minor": 0,
  "metadata": {
    "colab": {
      "name": "Multi-objective Bayesian Optimization.ipynb",
      "provenance": [],
      "collapsed_sections": [],
      "authorship_tag": "ABX9TyMiHW7r5X8WLaUX/uBpa01K",
      "include_colab_link": true
    },
    "kernelspec": {
      "name": "python3",
      "display_name": "Python 3"
    }
  },
  "cells": [
    {
      "cell_type": "markdown",
      "metadata": {
        "id": "view-in-github",
        "colab_type": "text"
      },
      "source": [
        "<a href=\"https://colab.research.google.com/github/fazaghifari/Notebook-Collections/blob/master/GP_and_BayesianOpt/Multi_objective_Bayesian_Optimization.ipynb\" target=\"_parent\"><img src=\"https://colab.research.google.com/assets/colab-badge.svg\" alt=\"Open In Colab\"/></a>"
      ]
    },
    {
      "cell_type": "markdown",
      "metadata": {
        "id": "pdwf-e_kF_Ku",
        "colab_type": "text"
      },
      "source": [
        "# MOBO, Constraint Handling, and Custom Function\n",
        "\n",
        "In this notebook, a tutorial about Multi-objective Bayesian Optimization (MOBO) in KADAL will be provided. In the previous notebook, only unconstrained problem in SOBO with built-in function is provided. Meanwhile, in this notebook we will try using a custom function with constraint(s) provided."
      ]
    },
    {
      "cell_type": "markdown",
      "metadata": {
        "id": "aMqBqMuhHXfL",
        "colab_type": "text"
      },
      "source": [
        "First, let's install the packages"
      ]
    },
    {
      "cell_type": "code",
      "metadata": {
        "id": "xULDghVvF64A",
        "colab_type": "code",
        "outputId": "279db4e0-1cae-4b3a-ee0b-eafeb7b30c64",
        "colab": {
          "base_uri": "https://localhost:8080/",
          "height": 1000
        }
      },
      "source": [
        "!pip install git+https://github.com/flowdiagnosticsitb/KADAL.git\n",
        "!pip install cma"
      ],
      "execution_count": 0,
      "outputs": [
        {
          "output_type": "stream",
          "text": [
            "Collecting git+https://github.com/flowdiagnosticsitb/KADAL.git\n",
            "  Cloning https://github.com/flowdiagnosticsitb/KADAL.git to /tmp/pip-req-build-6e0dt_xw\n",
            "  Running command git clone -q https://github.com/flowdiagnosticsitb/KADAL.git /tmp/pip-req-build-6e0dt_xw\n",
            "Requirement already satisfied: numpy in /usr/local/lib/python3.6/dist-packages (from kadal==1.0.2) (1.18.3)\n",
            "Requirement already satisfied: scipy in /usr/local/lib/python3.6/dist-packages (from kadal==1.0.2) (1.4.1)\n",
            "Requirement already satisfied: scikit-learn in /usr/local/lib/python3.6/dist-packages (from kadal==1.0.2) (0.22.2.post1)\n",
            "Collecting comet-ml\n",
            "\u001b[?25l  Downloading https://files.pythonhosted.org/packages/29/e0/d6aa47fbbec4313a7e7c7752ed74667f28188482acdc0beb18a46cc7d584/comet_ml-3.1.6-py2.py3-none-any.whl (196kB)\n",
            "\u001b[K     |████████████████████████████████| 204kB 2.7MB/s \n",
            "\u001b[?25hRequirement already satisfied: matplotlib in /usr/local/lib/python3.6/dist-packages (from kadal==1.0.2) (3.2.1)\n",
            "Collecting sobolsampling\n",
            "\u001b[?25l  Downloading https://files.pythonhosted.org/packages/88/0c/a0d39eda51eeb3a08afe1ff838be94c0c7b1156623ac78daf6edd058575e/sobolsampling-0.1.2-py3-none-any.whl (678kB)\n",
            "\u001b[K     |████████████████████████████████| 686kB 8.7MB/s \n",
            "\u001b[?25hRequirement already satisfied: joblib>=0.11 in /usr/local/lib/python3.6/dist-packages (from scikit-learn->kadal==1.0.2) (0.14.1)\n",
            "Collecting wurlitzer>=1.0.2\n",
            "  Downloading https://files.pythonhosted.org/packages/24/5e/f3bd8443bfdf96d2f5d10097d301076a9eb55637b7864e52d2d1a4d8c72a/wurlitzer-2.0.0-py2.py3-none-any.whl\n",
            "Requirement already satisfied: six in /usr/local/lib/python3.6/dist-packages (from comet-ml->kadal==1.0.2) (1.12.0)\n",
            "Requirement already satisfied: requests>=2.18.4 in /usr/local/lib/python3.6/dist-packages (from comet-ml->kadal==1.0.2) (2.23.0)\n",
            "Collecting typing-extensions>=3.7.4\n",
            "  Downloading https://files.pythonhosted.org/packages/0c/0e/3f026d0645d699e7320b59952146d56ad7c374e9cd72cd16e7c74e657a0f/typing_extensions-3.7.4.2-py3-none-any.whl\n",
            "Collecting everett[ini]>=1.0.1; python_version >= \"3.0\"\n",
            "  Downloading https://files.pythonhosted.org/packages/12/34/de70a3d913411e40ce84966f085b5da0c6df741e28c86721114dd290aaa0/everett-1.0.2-py2.py3-none-any.whl\n",
            "Collecting comet-git-pure>=0.19.11\n",
            "\u001b[?25l  Downloading https://files.pythonhosted.org/packages/72/7a/483413046e48908986a0f9a1d8a917e1da46ae58e6ba16b2ac71b3adf8d7/comet_git_pure-0.19.16-py3-none-any.whl (409kB)\n",
            "\u001b[K     |████████████████████████████████| 419kB 14.0MB/s \n",
            "\u001b[?25hCollecting websocket-client>=0.55.0\n",
            "\u001b[?25l  Downloading https://files.pythonhosted.org/packages/4c/5f/f61b420143ed1c8dc69f9eaec5ff1ac36109d52c80de49d66e0c36c3dfdf/websocket_client-0.57.0-py2.py3-none-any.whl (200kB)\n",
            "\u001b[K     |████████████████████████████████| 204kB 17.1MB/s \n",
            "\u001b[?25hRequirement already satisfied: nvidia-ml-py3>=7.352.0 in /usr/local/lib/python3.6/dist-packages (from comet-ml->kadal==1.0.2) (7.352.0)\n",
            "Collecting netifaces>=0.10.7\n",
            "  Downloading https://files.pythonhosted.org/packages/0c/9b/c4c7eb09189548d45939a3d3a6b3d53979c67d124459b27a094c365c347f/netifaces-0.10.9-cp36-cp36m-manylinux1_x86_64.whl\n",
            "Requirement already satisfied: jsonschema<3.1.0,>=2.6.0 in /usr/local/lib/python3.6/dist-packages (from comet-ml->kadal==1.0.2) (2.6.0)\n",
            "Requirement already satisfied: python-dateutil>=2.1 in /usr/local/lib/python3.6/dist-packages (from matplotlib->kadal==1.0.2) (2.8.1)\n",
            "Requirement already satisfied: pyparsing!=2.0.4,!=2.1.2,!=2.1.6,>=2.0.1 in /usr/local/lib/python3.6/dist-packages (from matplotlib->kadal==1.0.2) (2.4.7)\n",
            "Requirement already satisfied: kiwisolver>=1.0.1 in /usr/local/lib/python3.6/dist-packages (from matplotlib->kadal==1.0.2) (1.2.0)\n",
            "Requirement already satisfied: cycler>=0.10 in /usr/local/lib/python3.6/dist-packages (from matplotlib->kadal==1.0.2) (0.10.0)\n",
            "Requirement already satisfied: chardet<4,>=3.0.2 in /usr/local/lib/python3.6/dist-packages (from requests>=2.18.4->comet-ml->kadal==1.0.2) (3.0.4)\n",
            "Requirement already satisfied: urllib3!=1.25.0,!=1.25.1,<1.26,>=1.21.1 in /usr/local/lib/python3.6/dist-packages (from requests>=2.18.4->comet-ml->kadal==1.0.2) (1.24.3)\n",
            "Requirement already satisfied: idna<3,>=2.5 in /usr/local/lib/python3.6/dist-packages (from requests>=2.18.4->comet-ml->kadal==1.0.2) (2.9)\n",
            "Requirement already satisfied: certifi>=2017.4.17 in /usr/local/lib/python3.6/dist-packages (from requests>=2.18.4->comet-ml->kadal==1.0.2) (2020.4.5.1)\n",
            "Collecting configobj; extra == \"ini\"\n",
            "  Downloading https://files.pythonhosted.org/packages/64/61/079eb60459c44929e684fa7d9e2fdca403f67d64dd9dbac27296be2e0fab/configobj-5.0.6.tar.gz\n",
            "Building wheels for collected packages: kadal, configobj\n",
            "  Building wheel for kadal (setup.py) ... \u001b[?25l\u001b[?25hdone\n",
            "  Created wheel for kadal: filename=kadal-1.0.2-cp36-none-any.whl size=77600 sha256=e662b8276350298e12d41e29619de40b22d720af7dfd5527c2b3d9ddf57591c4\n",
            "  Stored in directory: /tmp/pip-ephem-wheel-cache-j83a6492/wheels/3c/fd/38/70e82ea24ca6ec25615628dafcc6174b1ba9f859aa5e3f237b\n",
            "  Building wheel for configobj (setup.py) ... \u001b[?25l\u001b[?25hdone\n",
            "  Created wheel for configobj: filename=configobj-5.0.6-cp36-none-any.whl size=34546 sha256=b7bb5658964e296c9509b50a4fd9f48b8b8ea3285835800d6d75dced4510f003\n",
            "  Stored in directory: /root/.cache/pip/wheels/f1/e4/16/4981ca97c2d65106b49861e0b35e2660695be7219a2d351ee0\n",
            "Successfully built kadal configobj\n",
            "\u001b[31mERROR: chainer 6.5.0 has requirement typing-extensions<=3.6.6, but you'll have typing-extensions 3.7.4.2 which is incompatible.\u001b[0m\n",
            "Installing collected packages: wurlitzer, typing-extensions, configobj, everett, comet-git-pure, websocket-client, netifaces, comet-ml, sobolsampling, kadal\n",
            "  Found existing installation: typing-extensions 3.6.6\n",
            "    Uninstalling typing-extensions-3.6.6:\n",
            "      Successfully uninstalled typing-extensions-3.6.6\n",
            "Successfully installed comet-git-pure-0.19.16 comet-ml-3.1.6 configobj-5.0.6 everett-1.0.2 kadal-1.0.2 netifaces-0.10.9 sobolsampling-0.1.2 typing-extensions-3.7.4.2 websocket-client-0.57.0 wurlitzer-2.0.0\n",
            "Collecting cma\n",
            "\u001b[?25l  Downloading https://files.pythonhosted.org/packages/36/c0/0a1c41f7cad0a51e07991cf86423d0e6651d035f1fe7dcff48e8858848f2/cma-3.0.3-py2.py3-none-any.whl (230kB)\n",
            "\u001b[K     |████████████████████████████████| 235kB 2.6MB/s \n",
            "\u001b[?25hRequirement already satisfied: numpy in /usr/local/lib/python3.6/dist-packages (from cma) (1.18.3)\n",
            "Installing collected packages: cma\n",
            "Successfully installed cma-3.0.3\n"
          ],
          "name": "stdout"
        }
      ]
    },
    {
      "cell_type": "markdown",
      "metadata": {
        "id": "xgSSE10lH3yH",
        "colab_type": "text"
      },
      "source": [
        "## Import KADAL"
      ]
    },
    {
      "cell_type": "code",
      "metadata": {
        "id": "l1QgjSG3He9H",
        "colab_type": "code",
        "colab": {}
      },
      "source": [
        "from kadal.surrogate_models.kriging_model import Kriging\n",
        "from kadal.surrogate_models.supports.initinfo import initkriginfo\n",
        "from kadal.misc.sampling.samplingplan import sampling\n",
        "from matplotlib import pyplot as plt\n",
        "from kadal.optim_tools.MOBO import MOBO\n",
        "from copy import deepcopy\n",
        "import numpy as np"
      ],
      "execution_count": 0,
      "outputs": []
    },
    {
      "cell_type": "markdown",
      "metadata": {
        "id": "fksMW3yKIoT3",
        "colab_type": "text"
      },
      "source": [
        "## Define Custom Function\n",
        "In this case, we will use [Binh and Korn](https://en.wikipedia.org/wiki/Test_functions_for_optimization#Test_functions_for_multi-objective_optimization) function for multi-objective problem with 2 constraints. Although both constraints can be easily evaluated, we will treat one of them as an expensive constraint."
      ]
    },
    {
      "cell_type": "code",
      "metadata": {
        "id": "iLq5fvhAJGdR",
        "colab_type": "code",
        "colab": {}
      },
      "source": [
        "def cust_func(x):\n",
        "    x1 = x[:,0]\n",
        "    x2 = x[:,1]\n",
        "    f = np.zeros(np.shape(x))\n",
        "    f[:,0] = 4*x1**2 + 4*x2**2\n",
        "    f[:,1] = (x1-5)**2 + (x2-5)**2\n",
        "    return f"
      ],
      "execution_count": 0,
      "outputs": []
    },
    {
      "cell_type": "code",
      "metadata": {
        "id": "1TvXgQCgLi4I",
        "colab_type": "code",
        "colab": {}
      },
      "source": [
        "def cheap_const(x):\n",
        "    \"\"\"This function should return either 1 or 0, 1 for feasible 0 for infeasible\"\"\"\n",
        "    if np.ndim(x) == 1:\n",
        "        x = np.array([x])\n",
        "    x1 = x[:,0]\n",
        "    x2 = x[:,1]\n",
        "    g = (x1-5)**2 + x2**2 <= 25 \n",
        "    return g"
      ],
      "execution_count": 0,
      "outputs": []
    },
    {
      "cell_type": "code",
      "metadata": {
        "id": "N0lWkZdzMenb",
        "colab_type": "code",
        "colab": {}
      },
      "source": [
        "def exp_const_eval(x):\n",
        "    \"\"\"This function should return the evaluation value of the constraint\"\"\"\n",
        "    if np.ndim(x) == 1:\n",
        "        x = np.array([x])\n",
        "    x1 = x[:,0]\n",
        "    x2 = x[:,1]\n",
        "    g = (x1-8)**2 + (x2 + 3)**2\n",
        "    return g"
      ],
      "execution_count": 0,
      "outputs": []
    },
    {
      "cell_type": "markdown",
      "metadata": {
        "id": "ABghMaCzO7dj",
        "colab_type": "text"
      },
      "source": [
        "## Create Kriging function"
      ]
    },
    {
      "cell_type": "code",
      "metadata": {
        "id": "BXac0Sl5Qn6x",
        "colab_type": "code",
        "colab": {}
      },
      "source": [
        "def construct_krig(X, y, g, lb, ub):\n",
        "    # Define input for constraint Kriging\n",
        "    KrigConstInfo = initkriginfo()\n",
        "    KrigConstInfo['X'] = X\n",
        "    KrigConstInfo['y'] = g.reshape(-1,1) # should be in shape (n,1)\n",
        "    KrigConstInfo['problem'] = exp_const_eval\n",
        "    KrigConstInfo[\"nrestart\"] = 5\n",
        "    KrigConstInfo[\"ub\"] = ub\n",
        "    KrigConstInfo[\"lb\"] = lb\n",
        "    KrigConstInfo[\"optimizer\"] = \"lbfgsb\"\n",
        "    KrigConstInfo['limittype'] = '>='  # value of the expensive constraints should be more than equal 7.7\n",
        "    KrigConstInfo['limit'] = 7.7\n",
        "\n",
        "    # Define input for first objective Kriging\n",
        "    KrigInfo1 = initkriginfo()\n",
        "    KrigInfo1[\"X\"] = X\n",
        "    KrigInfo1[\"y\"] = y[:,0].reshape(-1,1)\n",
        "    KrigInfo1[\"problem\"] = cust_func\n",
        "    KrigInfo1[\"nrestart\"] = 5\n",
        "    KrigInfo1[\"ub\"] = ub\n",
        "    KrigInfo1[\"lb\"] = lb\n",
        "    KrigInfo1[\"optimizer\"] = \"lbfgsb\"\n",
        "\n",
        "    # Define input for second objective Kriging\n",
        "    KrigInfo2 = deepcopy(KrigInfo1)\n",
        "    KrigInfo2['y'] = y[:,1].reshape(-1,1)\n",
        "\n",
        "    # Run Kriging\n",
        "    krigobj1 = Kriging(KrigInfo1, standardization=True, standtype='default', normy=False, trainvar=False)\n",
        "    krigobj1.train(parallel=False)\n",
        "    loocverr1, _ = krigobj1.loocvcalc()\n",
        "\n",
        "    krigobj2 = Kriging(KrigInfo2, standardization=True, standtype='default', normy=False, trainvar=False)\n",
        "    krigobj2.train(parallel=False)\n",
        "    loocverr2, _ = krigobj2.loocvcalc()\n",
        "\n",
        "    krigconst = Kriging(KrigConstInfo, standardization=True, standtype='default', normy=False, trainvar=False)\n",
        "    krigconst.train(parallel=False)\n",
        "    loocverrConst, _ = krigconst.loocvcalc()\n",
        "\n",
        "    print('LOOCV 1: ', loocverr1)\n",
        "    print('LOOCV 2: ', loocverr2)\n",
        "    print('LOOCV Constraint: ', loocverrConst)\n",
        "\n",
        "    # List of Kriging objects, objective and constraints should be separated\n",
        "    kriglist = [krigobj1, krigobj2]\n",
        "    expconstlist = [krigconst]\n",
        "\n",
        "    return kriglist, expconstlist"
      ],
      "execution_count": 0,
      "outputs": []
    },
    {
      "cell_type": "markdown",
      "metadata": {
        "id": "FzY28kUobjgt",
        "colab_type": "text"
      },
      "source": [
        "## Create optimizer handler"
      ]
    },
    {
      "cell_type": "code",
      "metadata": {
        "id": "E_f-mLRqbplG",
        "colab_type": "code",
        "colab": {}
      },
      "source": [
        "def optimize(kriglist, expconstlist):\n",
        "    moboInfo = dict()\n",
        "    moboInfo['nup'] = 5\n",
        "    moboInfo['acquifunc'] = \"ehvi\"\n",
        "    moboInfo['acquifuncopt'] = \"diff_evo\"\n",
        "    cheapconstlist = [cheap_const]\n",
        "    mobo = MOBO(moboInfo, kriglist, autoupdate=True, multiupdate=5, expconst=expconstlist,\n",
        "                chpconst = cheapconstlist)\n",
        "    xupdate, yupdate, supdate, metricall = mobo.run(disp=True)\n",
        "    return xupdate, yupdate, supdate, metricall"
      ],
      "execution_count": 0,
      "outputs": []
    },
    {
      "cell_type": "markdown",
      "metadata": {
        "id": "gPnMzTwPeEAQ",
        "colab_type": "text"
      },
      "source": [
        "## Run"
      ]
    },
    {
      "cell_type": "code",
      "metadata": {
        "id": "-hxyKmJoeFaA",
        "colab_type": "code",
        "outputId": "e1c62f38-f370-49ac-8a66-500d82a6223d",
        "colab": {
          "base_uri": "https://localhost:8080/",
          "height": 571
        }
      },
      "source": [
        "nsample = 20\n",
        "nvar = 2\n",
        "lb = np.array([0,0])\n",
        "ub = np.array([5,3])\n",
        "sampoption = \"halton\"\n",
        "samplenorm, sample = sampling(sampoption, nvar, nsample, result=\"real\", upbound=ub, lobound=lb)\n",
        "X = sample\n",
        "\n",
        "# Evaluate function\n",
        "y = cust_func(X)\n",
        "g = exp_const_eval(X)\n",
        "\n",
        "# Create Kriging\n",
        "kriglist, expconstlist = construct_krig(X, y, g, lb, ub)"
      ],
      "execution_count": 0,
      "outputs": [
        {
          "output_type": "stream",
          "text": [
            "Begin train hyperparam.\n",
            "Training 5 hyperparameter(s)\n",
            "Training hyperparameter candidate no.1\n",
            "Training hyperparameter candidate no.2\n",
            "Training hyperparameter candidate no.3\n",
            "Training hyperparameter candidate no.4\n",
            "Training hyperparameter candidate no.5\n",
            "Single Objective, train hyperparam, end.\n",
            "Best hyperparameter is [0.5075763  0.73086336]\n",
            "With NegLnLikelihood of -3.2263762903472326\n",
            "Begin train hyperparam.\n",
            "Training 5 hyperparameter(s)\n",
            "Training hyperparameter candidate no.1\n",
            "Training hyperparameter candidate no.2\n",
            "Training hyperparameter candidate no.3\n",
            "Training hyperparameter candidate no.4\n",
            "Training hyperparameter candidate no.5\n",
            "Single Objective, train hyperparam, end.\n",
            "Best hyperparameter is [0.53829235 0.74724422]\n",
            "With NegLnLikelihood of -26.215005187885993\n",
            "Begin train hyperparam.\n",
            "Training 5 hyperparameter(s)\n",
            "Training hyperparameter candidate no.1\n",
            "Training hyperparameter candidate no.2\n",
            "Training hyperparameter candidate no.3\n",
            "Training hyperparameter candidate no.4\n",
            "Training hyperparameter candidate no.5\n",
            "Single Objective, train hyperparam, end.\n",
            "Best hyperparameter is [0.52804008 0.8038022 ]\n",
            "With NegLnLikelihood of -20.313354668784072\n",
            "LOOCV 1:  2.321848096176482\n",
            "LOOCV 2:  0.14836277149875596\n",
            "LOOCV Constraint:  0.06537255454719902\n"
          ],
          "name": "stdout"
        }
      ]
    },
    {
      "cell_type": "code",
      "metadata": {
        "id": "phM69mQpfKXo",
        "colab_type": "code",
        "outputId": "2f5c6df4-4eeb-48d7-cf88-0c6cc9009699",
        "colab": {
          "base_uri": "https://localhost:8080/",
          "height": 1000
        }
      },
      "source": [
        "# Optimize\n",
        "xupdate, yupdate, supdate, metricall = optimize(kriglist, expconstlist)"
      ],
      "execution_count": 0,
      "outputs": [
        {
          "output_type": "stream",
          "text": [
            "The number of restart for acquisition function optimization is not specified, setting BayesInfo.nrestart to 1.\n",
            "The file name for saving the results is not specified, set the name to temporarydata.mat\n",
            "EHVI sampling is not specified, set sampling to default\n",
            "Begin multi-objective Bayesian optimization process.\n",
            "Update no.: 1, F-count: 20, Maximum no. updates: 6\n",
            "update number 1\n",
            "time:  11.505268812179565  s\n",
            "update number 2\n",
            "time:  12.68720269203186  s\n",
            "update number 3\n",
            "time:  12.53145718574524  s\n",
            "update number 4\n",
            "time:  15.598429441452026  s\n",
            "update number 5\n",
            "time:  12.555871486663818  s\n",
            "Update no.: 2, F-count: 25, Maximum no. updates: 6\n",
            "update number 1\n",
            "time:  19.41767978668213  s\n",
            "update number 2\n",
            "time:  20.524253368377686  s\n",
            "update number 3\n",
            "time:  23.716373443603516  s\n",
            "update number 4\n",
            "time:  25.533860683441162  s\n",
            "update number 5\n",
            "time:  31.511804819107056  s\n",
            "Update no.: 3, F-count: 30, Maximum no. updates: 6\n",
            "update number 1\n",
            "time:  78.20865893363953  s\n",
            "update number 2\n",
            "time:  38.11469650268555  s\n",
            "update number 3\n",
            "time:  51.78537440299988  s\n",
            "update number 4\n",
            "time:  41.3753719329834  s\n",
            "update number 5\n",
            "time:  80.99725651741028  s\n",
            "Update no.: 4, F-count: 35, Maximum no. updates: 6\n",
            "update number 1\n",
            "time:  64.77517747879028  s\n",
            "update number 2\n",
            "time:  67.15503454208374  s\n",
            "update number 3\n",
            "time:  77.7918632030487  s\n",
            "update number 4\n",
            "time:  69.68422675132751  s\n",
            "update number 5\n",
            "time:  66.33561396598816  s\n",
            "Update no.: 5, F-count: 40, Maximum no. updates: 6\n",
            "update number 1\n",
            "time:  75.5566017627716  s\n",
            "update number 2\n",
            "time:  105.34304523468018  s\n",
            "update number 3\n",
            "time:  80.2435507774353  s\n",
            "update number 4\n",
            "time:  119.41628170013428  s\n",
            "update number 5\n",
            "time:  155.91624212265015  s\n",
            "Update no.: 6, F-count: 45, Maximum no. updates: 6\n",
            "Optimization finished, now creating the final outputs.\n"
          ],
          "name": "stdout"
        }
      ]
    },
    {
      "cell_type": "code",
      "metadata": {
        "id": "-wnc8Vpaf2GX",
        "colab_type": "code",
        "outputId": "479e65e8-6971-49b2-ff62-3d6bcc02cb63",
        "colab": {
          "base_uri": "https://localhost:8080/",
          "height": 279
        }
      },
      "source": [
        "plt.scatter(y[g >= 7.7, 0], y[g >= 7.7, 1], c='#1f77b4',label='initial feasible samples')\n",
        "plt.scatter(y[g < 7.7, 0], y[g < 7.7, 1],marker='x',c='k',label='initial infeasible samples')\n",
        "plt.scatter(yupdate[:, 0], yupdate[:, 1], c='#ff7f0e',label='predicted next samples')\n",
        "plt.ylabel('f2')\n",
        "plt.xlabel('f1')\n",
        "plt.legend()\n",
        "plt.show()"
      ],
      "execution_count": 0,
      "outputs": [
        {
          "output_type": "display_data",
          "data": {
            "image/png": "[encoded data removed]",
            "text/plain": [
              "<Figure size 432x288 with 1 Axes>"
            ]
          },
          "metadata": {
            "tags": [],
            "needs_background": "light"
          }
        }
      ]
    },
    {
      "cell_type": "code",
      "metadata": {
        "id": "gzE7Oxntp9JL",
        "colab_type": "code",
        "colab": {}
      },
      "source": [
        ""
      ],
      "execution_count": 0,
      "outputs": []
    }
  ]
}